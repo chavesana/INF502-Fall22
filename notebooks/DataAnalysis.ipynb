{
  "cells": [
    {
      "cell_type": "markdown",
      "metadata": {
        "id": "view-in-github",
        "colab_type": "text"
      },
      "source": [
        "<a href=\"https://colab.research.google.com/github/chavesana/INF502-Fall22/blob/main/notebooks/DataAnalysis.ipynb\" target=\"_parent\"><img src=\"https://colab.research.google.com/assets/colab-badge.svg\" alt=\"Open In Colab\"/></a>"
      ]
    },
    {
      "cell_type": "markdown",
      "id": "314b1c5d-40de-43f2-a7f1-1ab0dae80933",
      "metadata": {
        "id": "314b1c5d-40de-43f2-a7f1-1ab0dae80933"
      },
      "source": [
        "## Exploring data using Pandas\n",
        "\n",
        "![Pandas](pandas.jpg)\n",
        "\n",
        "So far we explored Python and a few native libraries. Now we will play a little to simplify our life with tools to conduct some **data analysis**.\n",
        "\n",
        "**Pandas** is the most popular library (so far) for data analysis in Python. To install pandas, use the following command:\n",
        "\n",
        "```{python}\n",
        "pip install pandas\n",
        "```\n",
        "\n",
        "If you don't have `pip` and wish to use another installation tool, please check [this tutorial](https://pandas.pydata.org/docs/getting_started/install.html).\n",
        "\n",
        "For the visualization section, you may need to install the `matplotlib` library with the command\n",
        "\n",
        "```{python}\n",
        "python -m pip install -U matplotlib\n",
        "```\n",
        "\n",
        "### Let's import some data from a CSV file\n",
        "\n",
        "**Note**: to follow this lecture, you also have to download the files [commits_pr.csv](data/commits_pr.csv) and `commit_complete.csv` from the Readings session, which has the data we will use for the analysis."
      ]
    },
    {
      "cell_type": "code",
      "execution_count": null,
      "id": "4acb229f-33e7-4f25-b201-990e35291b5e",
      "metadata": {
        "id": "4acb229f-33e7-4f25-b201-990e35291b5e"
      },
      "outputs": [],
      "source": [
        "import pandas\n",
        "cpr = pandas.read_csv(\"commits_pr.csv\")"
      ]
    },
    {
      "cell_type": "markdown",
      "id": "59ef7b02-2d77-4b1e-86e0-d6b759cc1400",
      "metadata": {
        "id": "59ef7b02-2d77-4b1e-86e0-d6b759cc1400"
      },
      "source": [
        "Yes, it became this easy to read a CSV file! And there is more into it!\n",
        "\n",
        "Look at what the `cpr` variable is:"
      ]
    },
    {
      "cell_type": "code",
      "execution_count": null,
      "id": "5b9d0f6b-29ef-46ee-8f0b-2edfe639631d",
      "metadata": {
        "id": "5b9d0f6b-29ef-46ee-8f0b-2edfe639631d",
        "outputId": "73516d8a-bfa0-45c1-8af2-86d01fb268ec"
      },
      "outputs": [
        {
          "data": {
            "text/plain": [
              "pandas.core.frame.DataFrame"
            ]
          },
          "execution_count": 74,
          "metadata": {},
          "output_type": "execute_result"
        }
      ],
      "source": [
        "#print the type of the variable cpr\n",
        "type(cpr)"
      ]
    },
    {
      "cell_type": "markdown",
      "id": "2631f81a-eea4-4016-9339-c65db2f5d684",
      "metadata": {
        "id": "2631f81a-eea4-4016-9339-c65db2f5d684"
      },
      "source": [
        "`cpr` is a DataFrame, which is a very convenient way to work with tabular data. In our code, a data frame looks like this:"
      ]
    },
    {
      "cell_type": "code",
      "execution_count": null,
      "id": "a0503d6f-1b89-4dd3-a9a4-c910f65bd8e5",
      "metadata": {
        "id": "a0503d6f-1b89-4dd3-a9a4-c910f65bd8e5",
        "outputId": "0ee7a939-2458-4059-d694-c73dde50d33e"
      },
      "outputs": [
        {
          "data": {
            "text/html": [
              "<div>\n",
              "<style scoped>\n",
              "    .dataframe tbody tr th:only-of-type {\n",
              "        vertical-align: middle;\n",
              "    }\n",
              "\n",
              "    .dataframe tbody tr th {\n",
              "        vertical-align: top;\n",
              "    }\n",
              "\n",
              "    .dataframe thead th {\n",
              "        text-align: right;\n",
              "    }\n",
              "</style>\n",
              "<table border=\"1\" class=\"dataframe\">\n",
              "  <thead>\n",
              "    <tr style=\"text-align: right;\">\n",
              "      <th></th>\n",
              "      <th>user</th>\n",
              "      <th>project_name</th>\n",
              "      <th>prog_lang</th>\n",
              "      <th>pull_req_number</th>\n",
              "      <th>num_commits</th>\n",
              "    </tr>\n",
              "  </thead>\n",
              "  <tbody>\n",
              "    <tr>\n",
              "      <th>0</th>\n",
              "      <td>user1</td>\n",
              "      <td>php-src</td>\n",
              "      <td>C</td>\n",
              "      <td>122</td>\n",
              "      <td>1</td>\n",
              "    </tr>\n",
              "    <tr>\n",
              "      <th>1</th>\n",
              "      <td>user2</td>\n",
              "      <td>activeadmin</td>\n",
              "      <td>ruby</td>\n",
              "      <td>3325</td>\n",
              "      <td>1</td>\n",
              "    </tr>\n",
              "    <tr>\n",
              "      <th>2</th>\n",
              "      <td>user3</td>\n",
              "      <td>YouCompleteMe</td>\n",
              "      <td>python</td>\n",
              "      <td>2128</td>\n",
              "      <td>2</td>\n",
              "    </tr>\n",
              "    <tr>\n",
              "      <th>3</th>\n",
              "      <td>user4</td>\n",
              "      <td>requests</td>\n",
              "      <td>python</td>\n",
              "      <td>2663</td>\n",
              "      <td>1</td>\n",
              "    </tr>\n",
              "    <tr>\n",
              "      <th>4</th>\n",
              "      <td>user5</td>\n",
              "      <td>ipython</td>\n",
              "      <td>python</td>\n",
              "      <td>7901</td>\n",
              "      <td>1</td>\n",
              "    </tr>\n",
              "  </tbody>\n",
              "</table>\n",
              "</div>"
            ],
            "text/plain": [
              "    user   project_name prog_lang  pull_req_number  num_commits\n",
              "0  user1        php-src         C              122            1\n",
              "1  user2    activeadmin      ruby             3325            1\n",
              "2  user3  YouCompleteMe    python             2128            2\n",
              "3  user4       requests    python             2663            1\n",
              "4  user5        ipython    python             7901            1"
            ]
          },
          "execution_count": 75,
          "metadata": {},
          "output_type": "execute_result"
        }
      ],
      "source": [
        "cpr.head() # head() shows only the very first rows of the table"
      ]
    },
    {
      "cell_type": "code",
      "execution_count": null,
      "id": "585b0b03-184d-4a01-ae6a-02b8c21c9a0f",
      "metadata": {
        "id": "585b0b03-184d-4a01-ae6a-02b8c21c9a0f",
        "outputId": "2553129d-935b-408d-cbaf-52fe457c536a"
      },
      "outputs": [
        {
          "data": {
            "text/html": [
              "<div>\n",
              "<style scoped>\n",
              "    .dataframe tbody tr th:only-of-type {\n",
              "        vertical-align: middle;\n",
              "    }\n",
              "\n",
              "    .dataframe tbody tr th {\n",
              "        vertical-align: top;\n",
              "    }\n",
              "\n",
              "    .dataframe thead th {\n",
              "        text-align: right;\n",
              "    }\n",
              "</style>\n",
              "<table border=\"1\" class=\"dataframe\">\n",
              "  <thead>\n",
              "    <tr style=\"text-align: right;\">\n",
              "      <th></th>\n",
              "      <th>user</th>\n",
              "      <th>project_name</th>\n",
              "      <th>prog_lang</th>\n",
              "      <th>pull_req_number</th>\n",
              "      <th>num_commits</th>\n",
              "    </tr>\n",
              "  </thead>\n",
              "  <tbody>\n",
              "    <tr>\n",
              "      <th>42087</th>\n",
              "      <td>user36933</td>\n",
              "      <td>node</td>\n",
              "      <td>javascript</td>\n",
              "      <td>14285</td>\n",
              "      <td>1</td>\n",
              "    </tr>\n",
              "    <tr>\n",
              "      <th>42088</th>\n",
              "      <td>user36934</td>\n",
              "      <td>react</td>\n",
              "      <td>javascript</td>\n",
              "      <td>8762</td>\n",
              "      <td>2</td>\n",
              "    </tr>\n",
              "    <tr>\n",
              "      <th>42089</th>\n",
              "      <td>user36934</td>\n",
              "      <td>rails</td>\n",
              "      <td>ruby</td>\n",
              "      <td>27508</td>\n",
              "      <td>1</td>\n",
              "    </tr>\n",
              "    <tr>\n",
              "      <th>42090</th>\n",
              "      <td>user36935</td>\n",
              "      <td>cocos2d-x</td>\n",
              "      <td>C++</td>\n",
              "      <td>15047</td>\n",
              "      <td>1</td>\n",
              "    </tr>\n",
              "    <tr>\n",
              "      <th>42091</th>\n",
              "      <td>user36936</td>\n",
              "      <td>node</td>\n",
              "      <td>javascript</td>\n",
              "      <td>9508</td>\n",
              "      <td>2</td>\n",
              "    </tr>\n",
              "  </tbody>\n",
              "</table>\n",
              "</div>"
            ],
            "text/plain": [
              "            user project_name   prog_lang  pull_req_number  num_commits\n",
              "42087  user36933         node  javascript            14285            1\n",
              "42088  user36934        react  javascript             8762            2\n",
              "42089  user36934        rails        ruby            27508            1\n",
              "42090  user36935    cocos2d-x         C++            15047            1\n",
              "42091  user36936         node  javascript             9508            2"
            ]
          },
          "execution_count": 76,
          "metadata": {},
          "output_type": "execute_result"
        }
      ],
      "source": [
        "cpr.tail() #tail() shows only the very last rows of the table"
      ]
    },
    {
      "cell_type": "markdown",
      "id": "ffc22a23-dd5e-479a-b835-7f77a1b7a4d6",
      "metadata": {
        "id": "ffc22a23-dd5e-479a-b835-7f77a1b7a4d6"
      },
      "source": [
        "Before moving forward, let's understand what this dataset is about.\n",
        "\n",
        "The dataset represents a series of pull-requests made to a subset of projects hosted by GitHub. In some past research, a team of researchers worked on this data to capture a specific type of contributor, which they called *casual contributor*. These contributors are known by having a single pull request accepted in a project and not coming back (i.e., they have no long-term commitment to the project).\n",
        "\n",
        "The dataset contains the following columns:\n",
        "\n",
        "* `user`: represent a user in GitHub (anonymized here)\n",
        "* `project_name`: the name of GitHub project in which the pull request was accepted\n",
        "* `prog_lang`: programming language of the project\n",
        "* `pull_req_num`: unique identifier of the pull request\n",
        "* `num_commits`: number of commits sent within that specific pull request"
      ]
    },
    {
      "cell_type": "markdown",
      "id": "43cd25ce-1ebb-4ab2-8f79-d8576795bf41",
      "metadata": {
        "id": "43cd25ce-1ebb-4ab2-8f79-d8576795bf41"
      },
      "source": [
        "### Some information about the dataframe\n",
        "\n",
        "Let's explore the dataset. First, let's check the dimensions/shape of the dataset (lines vs. columns)"
      ]
    },
    {
      "cell_type": "code",
      "execution_count": null,
      "id": "1c0834bf-96a5-4f18-a837-a18847758d39",
      "metadata": {
        "id": "1c0834bf-96a5-4f18-a837-a18847758d39",
        "outputId": "a5cb4a77-68e3-4bbc-d382-0338b2140ff1"
      },
      "outputs": [
        {
          "data": {
            "text/plain": [
              "(42092, 5)"
            ]
          },
          "execution_count": 77,
          "metadata": {},
          "output_type": "execute_result"
        }
      ],
      "source": [
        "cpr.shape"
      ]
    },
    {
      "cell_type": "markdown",
      "id": "f055f0d8-6134-4199-aa17-08576da148ae",
      "metadata": {
        "id": "f055f0d8-6134-4199-aa17-08576da148ae"
      },
      "source": [
        "What about the column names?"
      ]
    },
    {
      "cell_type": "code",
      "execution_count": null,
      "id": "44b64d5a-d085-42bc-baad-3172a8a02e4f",
      "metadata": {
        "id": "44b64d5a-d085-42bc-baad-3172a8a02e4f",
        "outputId": "01591dbb-d6ab-41f6-a944-b47995b69dcb"
      },
      "outputs": [
        {
          "data": {
            "text/plain": [
              "Index(['user', 'project_name', 'prog_lang', 'pull_req_number', 'num_commits'], dtype='object')"
            ]
          },
          "execution_count": 78,
          "metadata": {},
          "output_type": "execute_result"
        }
      ],
      "source": [
        "cpr.columns"
      ]
    },
    {
      "cell_type": "markdown",
      "id": "4422e8bf-7d82-4afb-a3d1-be8570808e0f",
      "metadata": {
        "id": "4422e8bf-7d82-4afb-a3d1-be8570808e0f"
      },
      "source": [
        "And the datatype per column?"
      ]
    },
    {
      "cell_type": "code",
      "execution_count": null,
      "id": "d1090e36-6dc6-471e-914a-5f8a23306f68",
      "metadata": {
        "id": "d1090e36-6dc6-471e-914a-5f8a23306f68",
        "outputId": "3a66a42b-4f22-436a-b478-01825b149666"
      },
      "outputs": [
        {
          "data": {
            "text/plain": [
              "user               object\n",
              "project_name       object\n",
              "prog_lang          object\n",
              "pull_req_number     int64\n",
              "num_commits         int64\n",
              "dtype: object"
            ]
          },
          "execution_count": 79,
          "metadata": {},
          "output_type": "execute_result"
        }
      ],
      "source": [
        "cpr.dtypes"
      ]
    },
    {
      "cell_type": "markdown",
      "id": "c27801f9-7748-4f57-ad5e-e7a31d9fdb06",
      "metadata": {
        "id": "c27801f9-7748-4f57-ad5e-e7a31d9fdb06"
      },
      "source": [
        "Some more information: `info()` method prints information including the index dtype and column dtypes, non-null values and memory usage."
      ]
    },
    {
      "cell_type": "code",
      "execution_count": null,
      "id": "5e727755-9860-43af-a3c3-fc37b8b58b1d",
      "metadata": {
        "id": "5e727755-9860-43af-a3c3-fc37b8b58b1d",
        "outputId": "2208cc57-9041-4210-96f6-676998691cc7"
      },
      "outputs": [
        {
          "name": "stdout",
          "output_type": "stream",
          "text": [
            "<class 'pandas.core.frame.DataFrame'>\n",
            "RangeIndex: 42092 entries, 0 to 42091\n",
            "Data columns (total 5 columns):\n",
            " #   Column           Non-Null Count  Dtype \n",
            "---  ------           --------------  ----- \n",
            " 0   user             42092 non-null  object\n",
            " 1   project_name     42092 non-null  object\n",
            " 2   prog_lang        42092 non-null  object\n",
            " 3   pull_req_number  42092 non-null  int64 \n",
            " 4   num_commits      42092 non-null  int64 \n",
            "dtypes: int64(2), object(3)\n",
            "memory usage: 1.6+ MB\n"
          ]
        }
      ],
      "source": [
        "cpr.info()"
      ]
    },
    {
      "cell_type": "markdown",
      "id": "2125f86e-65ad-4389-b826-925da6491358",
      "metadata": {
        "id": "2125f86e-65ad-4389-b826-925da6491358"
      },
      "source": [
        "What is the type of a specific column?"
      ]
    },
    {
      "cell_type": "code",
      "execution_count": null,
      "id": "348ff5d3-4692-47d0-ac71-421dd532f4a0",
      "metadata": {
        "id": "348ff5d3-4692-47d0-ac71-421dd532f4a0",
        "outputId": "67e51aa4-db67-4a5d-9cae-c7eeea090884"
      },
      "outputs": [
        {
          "data": {
            "text/plain": [
              "pandas.core.series.Series"
            ]
          },
          "execution_count": 84,
          "metadata": {},
          "output_type": "execute_result"
        }
      ],
      "source": [
        "type(cpr[\"num_commits\"])"
      ]
    },
    {
      "cell_type": "markdown",
      "id": "f160037f-54f3-4ead-af60-705dbed1facb",
      "metadata": {
        "id": "f160037f-54f3-4ead-af60-705dbed1facb"
      },
      "source": [
        "A *serie* is an indexed, one-dimensional list. Each dataframe's column is a series.\n",
        "\n",
        "We can use the types to filter some columns. Let's say we want only the columns that store `int`:"
      ]
    },
    {
      "cell_type": "code",
      "execution_count": null,
      "id": "ec4fcef2-e107-4f4c-9ed5-040a5794cd63",
      "metadata": {
        "id": "ec4fcef2-e107-4f4c-9ed5-040a5794cd63",
        "outputId": "8f80660d-267a-4d63-a3e3-fb3df94cdc71"
      },
      "outputs": [
        {
          "data": {
            "text/plain": [
              "Index(['pull_req_number', 'num_commits'], dtype='object')"
            ]
          },
          "execution_count": 85,
          "metadata": {},
          "output_type": "execute_result"
        }
      ],
      "source": [
        "int_columns = cpr.dtypes[cpr.dtypes == \"int64\"].index\n",
        "int_columns"
      ]
    },
    {
      "cell_type": "markdown",
      "id": "cb28eb30-0e8f-45d9-ab94-0567382ce72e",
      "metadata": {
        "id": "cb28eb30-0e8f-45d9-ab94-0567382ce72e"
      },
      "source": [
        "Now that I have the index, I want to see only these columns (I will print just the head, so we don't have 42K rows in the output)."
      ]
    },
    {
      "cell_type": "code",
      "execution_count": null,
      "id": "10c7ade2-2ab5-4c92-87ee-7d398efee5d7",
      "metadata": {
        "id": "10c7ade2-2ab5-4c92-87ee-7d398efee5d7",
        "outputId": "f0e51328-7d70-487f-e599-f019174d4574"
      },
      "outputs": [
        {
          "data": {
            "text/html": [
              "<div>\n",
              "<style scoped>\n",
              "    .dataframe tbody tr th:only-of-type {\n",
              "        vertical-align: middle;\n",
              "    }\n",
              "\n",
              "    .dataframe tbody tr th {\n",
              "        vertical-align: top;\n",
              "    }\n",
              "\n",
              "    .dataframe thead th {\n",
              "        text-align: right;\n",
              "    }\n",
              "</style>\n",
              "<table border=\"1\" class=\"dataframe\">\n",
              "  <thead>\n",
              "    <tr style=\"text-align: right;\">\n",
              "      <th></th>\n",
              "      <th>pull_req_number</th>\n",
              "      <th>num_commits</th>\n",
              "    </tr>\n",
              "  </thead>\n",
              "  <tbody>\n",
              "    <tr>\n",
              "      <th>0</th>\n",
              "      <td>122</td>\n",
              "      <td>1</td>\n",
              "    </tr>\n",
              "    <tr>\n",
              "      <th>1</th>\n",
              "      <td>3325</td>\n",
              "      <td>1</td>\n",
              "    </tr>\n",
              "    <tr>\n",
              "      <th>2</th>\n",
              "      <td>2128</td>\n",
              "      <td>2</td>\n",
              "    </tr>\n",
              "    <tr>\n",
              "      <th>3</th>\n",
              "      <td>2663</td>\n",
              "      <td>1</td>\n",
              "    </tr>\n",
              "    <tr>\n",
              "      <th>4</th>\n",
              "      <td>7901</td>\n",
              "      <td>1</td>\n",
              "    </tr>\n",
              "  </tbody>\n",
              "</table>\n",
              "</div>"
            ],
            "text/plain": [
              "   pull_req_number  num_commits\n",
              "0              122            1\n",
              "1             3325            1\n",
              "2             2128            2\n",
              "3             2663            1\n",
              "4             7901            1"
            ]
          },
          "execution_count": 86,
          "metadata": {},
          "output_type": "execute_result"
        }
      ],
      "source": [
        "cpr[int_columns].head()"
      ]
    },
    {
      "cell_type": "markdown",
      "id": "b9192e5b-76d5-428d-a8c4-9a7300a6dc14",
      "metadata": {
        "id": "b9192e5b-76d5-428d-a8c4-9a7300a6dc14"
      },
      "source": [
        "### What about statistical information about my DataFrame?\n",
        "\n",
        "These information about the dataframe is useful, but we usually want some descriptive statistics of the data. The `describe()` method provides a summary of numeric values in your dataset: mean, standard deviation, minimum, maximum, 1st quartile, 2nd quartile (median), 3rd quartile of the columns with numeric values. It also counts the number of variables in the dataset (**Note:** where are the other variables we saw before?)"
      ]
    },
    {
      "cell_type": "code",
      "execution_count": null,
      "id": "60a2905c-cfc4-416a-8657-0b08c08e3735",
      "metadata": {
        "id": "60a2905c-cfc4-416a-8657-0b08c08e3735",
        "outputId": "4fb0af36-3d01-4ee1-b56b-a6e819a2e2fd"
      },
      "outputs": [
        {
          "data": {
            "text/html": [
              "<div>\n",
              "<style scoped>\n",
              "    .dataframe tbody tr th:only-of-type {\n",
              "        vertical-align: middle;\n",
              "    }\n",
              "\n",
              "    .dataframe tbody tr th {\n",
              "        vertical-align: top;\n",
              "    }\n",
              "\n",
              "    .dataframe thead th {\n",
              "        text-align: right;\n",
              "    }\n",
              "</style>\n",
              "<table border=\"1\" class=\"dataframe\">\n",
              "  <thead>\n",
              "    <tr style=\"text-align: right;\">\n",
              "      <th></th>\n",
              "      <th>pull_req_number</th>\n",
              "      <th>num_commits</th>\n",
              "    </tr>\n",
              "  </thead>\n",
              "  <tbody>\n",
              "    <tr>\n",
              "      <th>count</th>\n",
              "      <td>42092.000000</td>\n",
              "      <td>42092.000000</td>\n",
              "    </tr>\n",
              "    <tr>\n",
              "      <th>mean</th>\n",
              "      <td>4452.145681</td>\n",
              "      <td>3.824242</td>\n",
              "    </tr>\n",
              "    <tr>\n",
              "      <th>std</th>\n",
              "      <td>6152.304478</td>\n",
              "      <td>20.760123</td>\n",
              "    </tr>\n",
              "    <tr>\n",
              "      <th>min</th>\n",
              "      <td>1.000000</td>\n",
              "      <td>1.000000</td>\n",
              "    </tr>\n",
              "    <tr>\n",
              "      <th>25%</th>\n",
              "      <td>628.000000</td>\n",
              "      <td>1.000000</td>\n",
              "    </tr>\n",
              "    <tr>\n",
              "      <th>50%</th>\n",
              "      <td>2007.000000</td>\n",
              "      <td>1.000000</td>\n",
              "    </tr>\n",
              "    <tr>\n",
              "      <th>75%</th>\n",
              "      <td>5534.250000</td>\n",
              "      <td>2.000000</td>\n",
              "    </tr>\n",
              "    <tr>\n",
              "      <th>max</th>\n",
              "      <td>38174.000000</td>\n",
              "      <td>385.000000</td>\n",
              "    </tr>\n",
              "  </tbody>\n",
              "</table>\n",
              "</div>"
            ],
            "text/plain": [
              "       pull_req_number   num_commits\n",
              "count     42092.000000  42092.000000\n",
              "mean       4452.145681      3.824242\n",
              "std        6152.304478     20.760123\n",
              "min           1.000000      1.000000\n",
              "25%         628.000000      1.000000\n",
              "50%        2007.000000      1.000000\n",
              "75%        5534.250000      2.000000\n",
              "max       38174.000000    385.000000"
            ]
          },
          "execution_count": 87,
          "metadata": {},
          "output_type": "execute_result"
        }
      ],
      "source": [
        "cpr.describe()"
      ]
    },
    {
      "cell_type": "markdown",
      "id": "19fbb8a4-d477-4bf8-92eb-c4234404d51c",
      "metadata": {
        "id": "19fbb8a4-d477-4bf8-92eb-c4234404d51c"
      },
      "source": [
        "We can do the same thing for a Series, instead of using the whole dataset."
      ]
    },
    {
      "cell_type": "code",
      "execution_count": null,
      "id": "9862854f-b794-4faa-9313-70eca31a5089",
      "metadata": {
        "id": "9862854f-b794-4faa-9313-70eca31a5089",
        "outputId": "d80dda8b-34d7-4893-ded7-df40c4969890"
      },
      "outputs": [
        {
          "data": {
            "text/plain": [
              "count    42092.000000\n",
              "mean         3.824242\n",
              "std         20.760123\n",
              "min          1.000000\n",
              "25%          1.000000\n",
              "50%          1.000000\n",
              "75%          2.000000\n",
              "max        385.000000\n",
              "Name: num_commits, dtype: float64"
            ]
          },
          "execution_count": 89,
          "metadata": {},
          "output_type": "execute_result"
        }
      ],
      "source": [
        "#cpr[\"num_commits\"].describe()\n",
        "cpr.num_commits.describe()"
      ]
    },
    {
      "cell_type": "code",
      "execution_count": null,
      "id": "3074b46d-cd55-4c9f-94d1-a27013742136",
      "metadata": {
        "id": "3074b46d-cd55-4c9f-94d1-a27013742136",
        "outputId": "5939620c-6550-4f67-a4a6-351e49aae5c8"
      },
      "outputs": [
        {
          "data": {
            "text/plain": [
              "count     42092\n",
              "unique       17\n",
              "top        ruby\n",
              "freq       8147\n",
              "Name: prog_lang, dtype: object"
            ]
          },
          "execution_count": 90,
          "metadata": {},
          "output_type": "execute_result"
        }
      ],
      "source": [
        "#LOOK at this with a non-numeric column\n",
        "cpr.prog_lang.describe() #either way work."
      ]
    },
    {
      "cell_type": "markdown",
      "id": "37c1c29b-146b-48ed-a526-14fffa32516f",
      "metadata": {
        "id": "37c1c29b-146b-48ed-a526-14fffa32516f"
      },
      "source": [
        "If you don't want the entire set of descriptive statistics, you can ask for a specific information per column."
      ]
    },
    {
      "cell_type": "code",
      "execution_count": null,
      "id": "a4b2fa7b-91db-43a1-a775-fe4338c202fb",
      "metadata": {
        "id": "a4b2fa7b-91db-43a1-a775-fe4338c202fb",
        "outputId": "247b1bbc-2a97-4407-a992-55630dba3a80"
      },
      "outputs": [
        {
          "data": {
            "text/plain": [
              "1.0"
            ]
          },
          "execution_count": 91,
          "metadata": {},
          "output_type": "execute_result"
        }
      ],
      "source": [
        "cpr.num_commits.median() #median of the number of commits"
      ]
    },
    {
      "cell_type": "code",
      "execution_count": null,
      "id": "6df4465f-f598-4092-ab4d-86fd21950f8d",
      "metadata": {
        "id": "6df4465f-f598-4092-ab4d-86fd21950f8d",
        "outputId": "5099881f-2351-4ee1-f243-cae062b858ab"
      },
      "outputs": [
        {
          "data": {
            "text/plain": [
              "3.8242421362729258"
            ]
          },
          "execution_count": 92,
          "metadata": {},
          "output_type": "execute_result"
        }
      ],
      "source": [
        "cpr.num_commits.mean() #mean of the number of commits"
      ]
    },
    {
      "cell_type": "code",
      "execution_count": null,
      "id": "cd4e0372-c055-40b2-afcc-c5466ad5af63",
      "metadata": {
        "id": "cd4e0372-c055-40b2-afcc-c5466ad5af63",
        "outputId": "de5a9902-ad6a-44c4-d421-ad86bb4645dc"
      },
      "outputs": [
        {
          "data": {
            "text/plain": [
              "20.760123357074704"
            ]
          },
          "execution_count": 93,
          "metadata": {},
          "output_type": "execute_result"
        }
      ],
      "source": [
        "cpr.num_commits.std() #standard deviation for the number of commits"
      ]
    },
    {
      "cell_type": "markdown",
      "id": "875d31af-4540-45df-a0e4-4797b52096c4",
      "metadata": {
        "id": "875d31af-4540-45df-a0e4-4797b52096c4"
      },
      "source": [
        "### Playing with the data: sorting\n",
        "\n",
        "We can sort our data easily using pandas. In this example, let's sort the number of commits in descending order."
      ]
    },
    {
      "cell_type": "code",
      "execution_count": null,
      "id": "1614e4fc-9ccf-4338-bcfb-14f87eb71c4f",
      "metadata": {
        "id": "1614e4fc-9ccf-4338-bcfb-14f87eb71c4f",
        "outputId": "75c566bf-f9b5-4fb4-83ce-cc87fde0a348"
      },
      "outputs": [
        {
          "data": {
            "text/html": [
              "<div>\n",
              "<style scoped>\n",
              "    .dataframe tbody tr th:only-of-type {\n",
              "        vertical-align: middle;\n",
              "    }\n",
              "\n",
              "    .dataframe tbody tr th {\n",
              "        vertical-align: top;\n",
              "    }\n",
              "\n",
              "    .dataframe thead th {\n",
              "        text-align: right;\n",
              "    }\n",
              "</style>\n",
              "<table border=\"1\" class=\"dataframe\">\n",
              "  <thead>\n",
              "    <tr style=\"text-align: right;\">\n",
              "      <th></th>\n",
              "      <th>user</th>\n",
              "      <th>project_name</th>\n",
              "      <th>prog_lang</th>\n",
              "      <th>pull_req_number</th>\n",
              "      <th>num_commits</th>\n",
              "    </tr>\n",
              "  </thead>\n",
              "  <tbody>\n",
              "    <tr>\n",
              "      <th>38987</th>\n",
              "      <td>user34165</td>\n",
              "      <td>three.js</td>\n",
              "      <td>javascript</td>\n",
              "      <td>7832</td>\n",
              "      <td>385</td>\n",
              "    </tr>\n",
              "    <tr>\n",
              "      <th>705</th>\n",
              "      <td>user640</td>\n",
              "      <td>cocos2d-x</td>\n",
              "      <td>C++</td>\n",
              "      <td>6866</td>\n",
              "      <td>364</td>\n",
              "    </tr>\n",
              "    <tr>\n",
              "      <th>7335</th>\n",
              "      <td>user6426</td>\n",
              "      <td>redis</td>\n",
              "      <td>C</td>\n",
              "      <td>3506</td>\n",
              "      <td>315</td>\n",
              "    </tr>\n",
              "    <tr>\n",
              "      <th>19587</th>\n",
              "      <td>user17126</td>\n",
              "      <td>jenkins</td>\n",
              "      <td>java</td>\n",
              "      <td>2718</td>\n",
              "      <td>307</td>\n",
              "    </tr>\n",
              "    <tr>\n",
              "      <th>35826</th>\n",
              "      <td>user31347</td>\n",
              "      <td>redis</td>\n",
              "      <td>C</td>\n",
              "      <td>3230</td>\n",
              "      <td>290</td>\n",
              "    </tr>\n",
              "    <tr>\n",
              "      <th>13300</th>\n",
              "      <td>user11672</td>\n",
              "      <td>cocos2d-x</td>\n",
              "      <td>C++</td>\n",
              "      <td>16576</td>\n",
              "      <td>281</td>\n",
              "    </tr>\n",
              "    <tr>\n",
              "      <th>3601</th>\n",
              "      <td>user3214</td>\n",
              "      <td>three.js</td>\n",
              "      <td>javascript</td>\n",
              "      <td>7808</td>\n",
              "      <td>277</td>\n",
              "    </tr>\n",
              "    <tr>\n",
              "      <th>13873</th>\n",
              "      <td>user12167</td>\n",
              "      <td>spring-framework</td>\n",
              "      <td>java</td>\n",
              "      <td>642</td>\n",
              "      <td>273</td>\n",
              "    </tr>\n",
              "    <tr>\n",
              "      <th>26360</th>\n",
              "      <td>user23077</td>\n",
              "      <td>Faker</td>\n",
              "      <td>php</td>\n",
              "      <td>660</td>\n",
              "      <td>259</td>\n",
              "    </tr>\n",
              "    <tr>\n",
              "      <th>18632</th>\n",
              "      <td>user16293</td>\n",
              "      <td>libgdx</td>\n",
              "      <td>java</td>\n",
              "      <td>814</td>\n",
              "      <td>258</td>\n",
              "    </tr>\n",
              "  </tbody>\n",
              "</table>\n",
              "</div>"
            ],
            "text/plain": [
              "            user      project_name   prog_lang  pull_req_number  num_commits\n",
              "38987  user34165          three.js  javascript             7832          385\n",
              "705      user640         cocos2d-x         C++             6866          364\n",
              "7335    user6426             redis           C             3506          315\n",
              "19587  user17126           jenkins        java             2718          307\n",
              "35826  user31347             redis           C             3230          290\n",
              "13300  user11672         cocos2d-x         C++            16576          281\n",
              "3601    user3214          three.js  javascript             7808          277\n",
              "13873  user12167  spring-framework        java              642          273\n",
              "26360  user23077             Faker         php              660          259\n",
              "18632  user16293            libgdx        java              814          258"
            ]
          },
          "execution_count": 94,
          "metadata": {},
          "output_type": "execute_result"
        }
      ],
      "source": [
        "cpr.sort_values(\"num_commits\", ascending=False).head(10)"
      ]
    },
    {
      "cell_type": "markdown",
      "id": "74eafe70-5205-4cae-a798-70eb75df134b",
      "metadata": {
        "id": "74eafe70-5205-4cae-a798-70eb75df134b"
      },
      "source": [
        "Let's pull up the entire dataset again, so we can play with other variables."
      ]
    },
    {
      "cell_type": "code",
      "execution_count": null,
      "id": "d8a5569f-9605-49ae-9063-e6ae4f9d0203",
      "metadata": {
        "id": "d8a5569f-9605-49ae-9063-e6ae4f9d0203"
      },
      "outputs": [],
      "source": [
        "cpr = pandas.read_csv(\"commits_pr.csv\")"
      ]
    },
    {
      "cell_type": "markdown",
      "id": "e278d859-35f4-46a9-8339-7f44cc1b041a",
      "metadata": {
        "id": "e278d859-35f4-46a9-8339-7f44cc1b041a"
      },
      "source": [
        "Now let's sort the data by the Programming language in ascending order."
      ]
    },
    {
      "cell_type": "code",
      "execution_count": null,
      "id": "ef6d3d4c-7423-4958-ac10-39a8c8855629",
      "metadata": {
        "id": "ef6d3d4c-7423-4958-ac10-39a8c8855629",
        "outputId": "6fce5bde-e14a-4db0-f795-18bcd073cbc1"
      },
      "outputs": [
        {
          "data": {
            "text/html": [
              "<div>\n",
              "<style scoped>\n",
              "    .dataframe tbody tr th:only-of-type {\n",
              "        vertical-align: middle;\n",
              "    }\n",
              "\n",
              "    .dataframe tbody tr th {\n",
              "        vertical-align: top;\n",
              "    }\n",
              "\n",
              "    .dataframe thead th {\n",
              "        text-align: right;\n",
              "    }\n",
              "</style>\n",
              "<table border=\"1\" class=\"dataframe\">\n",
              "  <thead>\n",
              "    <tr style=\"text-align: right;\">\n",
              "      <th></th>\n",
              "      <th>user</th>\n",
              "      <th>project_name</th>\n",
              "      <th>prog_lang</th>\n",
              "      <th>pull_req_number</th>\n",
              "      <th>num_commits</th>\n",
              "    </tr>\n",
              "  </thead>\n",
              "  <tbody>\n",
              "    <tr>\n",
              "      <th>7862</th>\n",
              "      <td>user6897</td>\n",
              "      <td>winjs</td>\n",
              "      <td>typescript</td>\n",
              "      <td>1515</td>\n",
              "      <td>2</td>\n",
              "    </tr>\n",
              "    <tr>\n",
              "      <th>35930</th>\n",
              "      <td>user31440</td>\n",
              "      <td>shumway</td>\n",
              "      <td>typescript</td>\n",
              "      <td>1333</td>\n",
              "      <td>3</td>\n",
              "    </tr>\n",
              "    <tr>\n",
              "      <th>15621</th>\n",
              "      <td>user13681</td>\n",
              "      <td>doppio</td>\n",
              "      <td>typescript</td>\n",
              "      <td>415</td>\n",
              "      <td>2</td>\n",
              "    </tr>\n",
              "    <tr>\n",
              "      <th>4628</th>\n",
              "      <td>user4086</td>\n",
              "      <td>tsd</td>\n",
              "      <td>typescript</td>\n",
              "      <td>251</td>\n",
              "      <td>2</td>\n",
              "    </tr>\n",
              "    <tr>\n",
              "      <th>40003</th>\n",
              "      <td>user35064</td>\n",
              "      <td>litecoin</td>\n",
              "      <td>typescript</td>\n",
              "      <td>279</td>\n",
              "      <td>5</td>\n",
              "    </tr>\n",
              "    <tr>\n",
              "      <th>29153</th>\n",
              "      <td>user25548</td>\n",
              "      <td>primecoin</td>\n",
              "      <td>typescript</td>\n",
              "      <td>1</td>\n",
              "      <td>1</td>\n",
              "    </tr>\n",
              "    <tr>\n",
              "      <th>11557</th>\n",
              "      <td>user10154</td>\n",
              "      <td>doppio</td>\n",
              "      <td>typescript</td>\n",
              "      <td>331</td>\n",
              "      <td>1</td>\n",
              "    </tr>\n",
              "    <tr>\n",
              "      <th>16120</th>\n",
              "      <td>user14127</td>\n",
              "      <td>TypeScript</td>\n",
              "      <td>typescript</td>\n",
              "      <td>14811</td>\n",
              "      <td>2</td>\n",
              "    </tr>\n",
              "    <tr>\n",
              "      <th>26882</th>\n",
              "      <td>user23548</td>\n",
              "      <td>shumway</td>\n",
              "      <td>typescript</td>\n",
              "      <td>1767</td>\n",
              "      <td>1</td>\n",
              "    </tr>\n",
              "    <tr>\n",
              "      <th>40005</th>\n",
              "      <td>user35066</td>\n",
              "      <td>TypeScript</td>\n",
              "      <td>typescript</td>\n",
              "      <td>5879</td>\n",
              "      <td>44</td>\n",
              "    </tr>\n",
              "  </tbody>\n",
              "</table>\n",
              "</div>"
            ],
            "text/plain": [
              "            user project_name   prog_lang  pull_req_number  num_commits\n",
              "7862    user6897        winjs  typescript             1515            2\n",
              "35930  user31440      shumway  typescript             1333            3\n",
              "15621  user13681       doppio  typescript              415            2\n",
              "4628    user4086          tsd  typescript              251            2\n",
              "40003  user35064     litecoin  typescript              279            5\n",
              "29153  user25548    primecoin  typescript                1            1\n",
              "11557  user10154       doppio  typescript              331            1\n",
              "16120  user14127   TypeScript  typescript            14811            2\n",
              "26882  user23548      shumway  typescript             1767            1\n",
              "40005  user35066   TypeScript  typescript             5879           44"
            ]
          },
          "execution_count": 98,
          "metadata": {},
          "output_type": "execute_result"
        }
      ],
      "source": [
        "cpr.sort_values(\"prog_lang\", ascending=False).head(10)"
      ]
    },
    {
      "cell_type": "markdown",
      "id": "2b738274-59a4-4c41-b987-73ebcd48343a",
      "metadata": {
        "id": "2b738274-59a4-4c41-b987-73ebcd48343a"
      },
      "source": [
        "We can sort using *many columns*, by using a list (sort will happen from the first item to the last)."
      ]
    },
    {
      "cell_type": "code",
      "execution_count": null,
      "id": "589295bb-c4eb-48fa-b1c4-7cfb119c4bd7",
      "metadata": {
        "id": "589295bb-c4eb-48fa-b1c4-7cfb119c4bd7",
        "outputId": "cb8a1e2f-a1d1-497f-da07-4ee1762d83e8"
      },
      "outputs": [
        {
          "data": {
            "text/html": [
              "<div>\n",
              "<style scoped>\n",
              "    .dataframe tbody tr th:only-of-type {\n",
              "        vertical-align: middle;\n",
              "    }\n",
              "\n",
              "    .dataframe tbody tr th {\n",
              "        vertical-align: top;\n",
              "    }\n",
              "\n",
              "    .dataframe thead th {\n",
              "        text-align: right;\n",
              "    }\n",
              "</style>\n",
              "<table border=\"1\" class=\"dataframe\">\n",
              "  <thead>\n",
              "    <tr style=\"text-align: right;\">\n",
              "      <th></th>\n",
              "      <th>user</th>\n",
              "      <th>project_name</th>\n",
              "      <th>prog_lang</th>\n",
              "      <th>pull_req_number</th>\n",
              "      <th>num_commits</th>\n",
              "    </tr>\n",
              "  </thead>\n",
              "  <tbody>\n",
              "    <tr>\n",
              "      <th>2465</th>\n",
              "      <td>user2213</td>\n",
              "      <td>ccv</td>\n",
              "      <td>C</td>\n",
              "      <td>83</td>\n",
              "      <td>1</td>\n",
              "    </tr>\n",
              "    <tr>\n",
              "      <th>14883</th>\n",
              "      <td>user13025</td>\n",
              "      <td>ccv</td>\n",
              "      <td>C</td>\n",
              "      <td>4</td>\n",
              "      <td>1</td>\n",
              "    </tr>\n",
              "    <tr>\n",
              "      <th>21334</th>\n",
              "      <td>user18630</td>\n",
              "      <td>ccv</td>\n",
              "      <td>C</td>\n",
              "      <td>19</td>\n",
              "      <td>1</td>\n",
              "    </tr>\n",
              "    <tr>\n",
              "      <th>21728</th>\n",
              "      <td>user18978</td>\n",
              "      <td>ccv</td>\n",
              "      <td>C</td>\n",
              "      <td>132</td>\n",
              "      <td>1</td>\n",
              "    </tr>\n",
              "    <tr>\n",
              "      <th>39827</th>\n",
              "      <td>user34908</td>\n",
              "      <td>ccv</td>\n",
              "      <td>C</td>\n",
              "      <td>150</td>\n",
              "      <td>1</td>\n",
              "    </tr>\n",
              "    <tr>\n",
              "      <th>9227</th>\n",
              "      <td>user8102</td>\n",
              "      <td>ccv</td>\n",
              "      <td>C</td>\n",
              "      <td>8</td>\n",
              "      <td>2</td>\n",
              "    </tr>\n",
              "    <tr>\n",
              "      <th>19078</th>\n",
              "      <td>user16695</td>\n",
              "      <td>ccv</td>\n",
              "      <td>C</td>\n",
              "      <td>195</td>\n",
              "      <td>2</td>\n",
              "    </tr>\n",
              "    <tr>\n",
              "      <th>21786</th>\n",
              "      <td>user19026</td>\n",
              "      <td>ccv</td>\n",
              "      <td>C</td>\n",
              "      <td>141</td>\n",
              "      <td>2</td>\n",
              "    </tr>\n",
              "    <tr>\n",
              "      <th>26265</th>\n",
              "      <td>user23003</td>\n",
              "      <td>ccv</td>\n",
              "      <td>C</td>\n",
              "      <td>161</td>\n",
              "      <td>2</td>\n",
              "    </tr>\n",
              "    <tr>\n",
              "      <th>130</th>\n",
              "      <td>user115</td>\n",
              "      <td>ccv</td>\n",
              "      <td>C</td>\n",
              "      <td>31</td>\n",
              "      <td>3</td>\n",
              "    </tr>\n",
              "  </tbody>\n",
              "</table>\n",
              "</div>"
            ],
            "text/plain": [
              "            user project_name prog_lang  pull_req_number  num_commits\n",
              "2465    user2213          ccv         C               83            1\n",
              "14883  user13025          ccv         C                4            1\n",
              "21334  user18630          ccv         C               19            1\n",
              "21728  user18978          ccv         C              132            1\n",
              "39827  user34908          ccv         C              150            1\n",
              "9227    user8102          ccv         C                8            2\n",
              "19078  user16695          ccv         C              195            2\n",
              "21786  user19026          ccv         C              141            2\n",
              "26265  user23003          ccv         C              161            2\n",
              "130      user115          ccv         C               31            3"
            ]
          },
          "execution_count": 99,
          "metadata": {},
          "output_type": "execute_result"
        }
      ],
      "source": [
        "cpr.sort_values([\"prog_lang\", \"project_name\", \"num_commits\"], ascending=True).head(10)"
      ]
    },
    {
      "cell_type": "markdown",
      "id": "3080bc80-6769-4e3d-8689-69a37a45aa55",
      "metadata": {
        "id": "3080bc80-6769-4e3d-8689-69a37a45aa55"
      },
      "source": [
        "Now, the sorting creates only a view of the data, but does not change the dataset itself."
      ]
    },
    {
      "cell_type": "code",
      "execution_count": null,
      "id": "31243690-7885-4b8c-b24a-1a2134a6831c",
      "metadata": {
        "id": "31243690-7885-4b8c-b24a-1a2134a6831c",
        "outputId": "c468de29-a333-41c6-b689-3d893086ce1a"
      },
      "outputs": [
        {
          "data": {
            "text/html": [
              "<div>\n",
              "<style scoped>\n",
              "    .dataframe tbody tr th:only-of-type {\n",
              "        vertical-align: middle;\n",
              "    }\n",
              "\n",
              "    .dataframe tbody tr th {\n",
              "        vertical-align: top;\n",
              "    }\n",
              "\n",
              "    .dataframe thead th {\n",
              "        text-align: right;\n",
              "    }\n",
              "</style>\n",
              "<table border=\"1\" class=\"dataframe\">\n",
              "  <thead>\n",
              "    <tr style=\"text-align: right;\">\n",
              "      <th></th>\n",
              "      <th>user</th>\n",
              "      <th>project_name</th>\n",
              "      <th>prog_lang</th>\n",
              "      <th>pull_req_number</th>\n",
              "      <th>num_commits</th>\n",
              "    </tr>\n",
              "  </thead>\n",
              "  <tbody>\n",
              "    <tr>\n",
              "      <th>0</th>\n",
              "      <td>user1</td>\n",
              "      <td>php-src</td>\n",
              "      <td>C</td>\n",
              "      <td>122</td>\n",
              "      <td>1</td>\n",
              "    </tr>\n",
              "    <tr>\n",
              "      <th>1</th>\n",
              "      <td>user2</td>\n",
              "      <td>activeadmin</td>\n",
              "      <td>ruby</td>\n",
              "      <td>3325</td>\n",
              "      <td>1</td>\n",
              "    </tr>\n",
              "    <tr>\n",
              "      <th>2</th>\n",
              "      <td>user3</td>\n",
              "      <td>YouCompleteMe</td>\n",
              "      <td>python</td>\n",
              "      <td>2128</td>\n",
              "      <td>2</td>\n",
              "    </tr>\n",
              "    <tr>\n",
              "      <th>3</th>\n",
              "      <td>user4</td>\n",
              "      <td>requests</td>\n",
              "      <td>python</td>\n",
              "      <td>2663</td>\n",
              "      <td>1</td>\n",
              "    </tr>\n",
              "    <tr>\n",
              "      <th>4</th>\n",
              "      <td>user5</td>\n",
              "      <td>ipython</td>\n",
              "      <td>python</td>\n",
              "      <td>7901</td>\n",
              "      <td>1</td>\n",
              "    </tr>\n",
              "    <tr>\n",
              "      <th>5</th>\n",
              "      <td>user6</td>\n",
              "      <td>haste-compiler</td>\n",
              "      <td>haskell</td>\n",
              "      <td>407</td>\n",
              "      <td>1</td>\n",
              "    </tr>\n",
              "    <tr>\n",
              "      <th>6</th>\n",
              "      <td>user7</td>\n",
              "      <td>select2</td>\n",
              "      <td>javascript</td>\n",
              "      <td>1987</td>\n",
              "      <td>1</td>\n",
              "    </tr>\n",
              "    <tr>\n",
              "      <th>7</th>\n",
              "      <td>user8</td>\n",
              "      <td>django</td>\n",
              "      <td>python</td>\n",
              "      <td>8608</td>\n",
              "      <td>3</td>\n",
              "    </tr>\n",
              "    <tr>\n",
              "      <th>8</th>\n",
              "      <td>user9</td>\n",
              "      <td>folly</td>\n",
              "      <td>C++</td>\n",
              "      <td>206</td>\n",
              "      <td>1</td>\n",
              "    </tr>\n",
              "    <tr>\n",
              "      <th>9</th>\n",
              "      <td>user10</td>\n",
              "      <td>django</td>\n",
              "      <td>python</td>\n",
              "      <td>4745</td>\n",
              "      <td>2</td>\n",
              "    </tr>\n",
              "  </tbody>\n",
              "</table>\n",
              "</div>"
            ],
            "text/plain": [
              "     user    project_name   prog_lang  pull_req_number  num_commits\n",
              "0   user1         php-src           C              122            1\n",
              "1   user2     activeadmin        ruby             3325            1\n",
              "2   user3   YouCompleteMe      python             2128            2\n",
              "3   user4        requests      python             2663            1\n",
              "4   user5         ipython      python             7901            1\n",
              "5   user6  haste-compiler     haskell              407            1\n",
              "6   user7         select2  javascript             1987            1\n",
              "7   user8          django      python             8608            3\n",
              "8   user9           folly         C++              206            1\n",
              "9  user10          django      python             4745            2"
            ]
          },
          "execution_count": 100,
          "metadata": {},
          "output_type": "execute_result"
        }
      ],
      "source": [
        "cpr.head(10)"
      ]
    },
    {
      "cell_type": "markdown",
      "id": "0df60d4e-c1c9-4cb8-b700-e174af489062",
      "metadata": {
        "id": "0df60d4e-c1c9-4cb8-b700-e174af489062"
      },
      "source": [
        "If you want to keep the sorted version, you can use the parameter `inplace`:"
      ]
    },
    {
      "cell_type": "code",
      "execution_count": null,
      "id": "aa5947cd-e1fb-4df6-b4cb-1dd6a57c2246",
      "metadata": {
        "id": "aa5947cd-e1fb-4df6-b4cb-1dd6a57c2246",
        "outputId": "f6553c33-9e66-45fa-c90c-adce44623552"
      },
      "outputs": [
        {
          "data": {
            "text/html": [
              "<div>\n",
              "<style scoped>\n",
              "    .dataframe tbody tr th:only-of-type {\n",
              "        vertical-align: middle;\n",
              "    }\n",
              "\n",
              "    .dataframe tbody tr th {\n",
              "        vertical-align: top;\n",
              "    }\n",
              "\n",
              "    .dataframe thead th {\n",
              "        text-align: right;\n",
              "    }\n",
              "</style>\n",
              "<table border=\"1\" class=\"dataframe\">\n",
              "  <thead>\n",
              "    <tr style=\"text-align: right;\">\n",
              "      <th></th>\n",
              "      <th>user</th>\n",
              "      <th>project_name</th>\n",
              "      <th>prog_lang</th>\n",
              "      <th>pull_req_number</th>\n",
              "      <th>num_commits</th>\n",
              "    </tr>\n",
              "  </thead>\n",
              "  <tbody>\n",
              "    <tr>\n",
              "      <th>14351</th>\n",
              "      <td>user12556</td>\n",
              "      <td>winjs</td>\n",
              "      <td>typescript</td>\n",
              "      <td>678</td>\n",
              "      <td>11</td>\n",
              "    </tr>\n",
              "    <tr>\n",
              "      <th>40943</th>\n",
              "      <td>user35906</td>\n",
              "      <td>winjs</td>\n",
              "      <td>typescript</td>\n",
              "      <td>1609</td>\n",
              "      <td>10</td>\n",
              "    </tr>\n",
              "    <tr>\n",
              "      <th>35890</th>\n",
              "      <td>user31404</td>\n",
              "      <td>winjs</td>\n",
              "      <td>typescript</td>\n",
              "      <td>565</td>\n",
              "      <td>6</td>\n",
              "    </tr>\n",
              "    <tr>\n",
              "      <th>1800</th>\n",
              "      <td>user1614</td>\n",
              "      <td>winjs</td>\n",
              "      <td>typescript</td>\n",
              "      <td>1179</td>\n",
              "      <td>3</td>\n",
              "    </tr>\n",
              "    <tr>\n",
              "      <th>20245</th>\n",
              "      <td>user17684</td>\n",
              "      <td>winjs</td>\n",
              "      <td>typescript</td>\n",
              "      <td>1559</td>\n",
              "      <td>3</td>\n",
              "    </tr>\n",
              "    <tr>\n",
              "      <th>29167</th>\n",
              "      <td>user25562</td>\n",
              "      <td>winjs</td>\n",
              "      <td>typescript</td>\n",
              "      <td>30</td>\n",
              "      <td>3</td>\n",
              "    </tr>\n",
              "    <tr>\n",
              "      <th>4780</th>\n",
              "      <td>user4214</td>\n",
              "      <td>winjs</td>\n",
              "      <td>typescript</td>\n",
              "      <td>44</td>\n",
              "      <td>2</td>\n",
              "    </tr>\n",
              "    <tr>\n",
              "      <th>5142</th>\n",
              "      <td>user4533</td>\n",
              "      <td>winjs</td>\n",
              "      <td>typescript</td>\n",
              "      <td>185</td>\n",
              "      <td>2</td>\n",
              "    </tr>\n",
              "    <tr>\n",
              "      <th>7862</th>\n",
              "      <td>user6897</td>\n",
              "      <td>winjs</td>\n",
              "      <td>typescript</td>\n",
              "      <td>1515</td>\n",
              "      <td>2</td>\n",
              "    </tr>\n",
              "    <tr>\n",
              "      <th>32077</th>\n",
              "      <td>user28045</td>\n",
              "      <td>winjs</td>\n",
              "      <td>typescript</td>\n",
              "      <td>428</td>\n",
              "      <td>2</td>\n",
              "    </tr>\n",
              "  </tbody>\n",
              "</table>\n",
              "</div>"
            ],
            "text/plain": [
              "            user project_name   prog_lang  pull_req_number  num_commits\n",
              "14351  user12556        winjs  typescript              678           11\n",
              "40943  user35906        winjs  typescript             1609           10\n",
              "35890  user31404        winjs  typescript              565            6\n",
              "1800    user1614        winjs  typescript             1179            3\n",
              "20245  user17684        winjs  typescript             1559            3\n",
              "29167  user25562        winjs  typescript               30            3\n",
              "4780    user4214        winjs  typescript               44            2\n",
              "5142    user4533        winjs  typescript              185            2\n",
              "7862    user6897        winjs  typescript             1515            2\n",
              "32077  user28045        winjs  typescript              428            2"
            ]
          },
          "execution_count": 104,
          "metadata": {},
          "output_type": "execute_result"
        }
      ],
      "source": [
        "cpr.sort_values([\"prog_lang\", \"project_name\", \"num_commits\"], ascending=False, inplace=True)\n",
        "cpr.head(10)\n",
        "#cpr = pandas.read_csv(\"commits_pr.csv\") #--> to return to the original order"
      ]
    },
    {
      "cell_type": "markdown",
      "id": "b31aa9e8-5e83-4c90-b49d-0a5773afba0d",
      "metadata": {
        "id": "b31aa9e8-5e83-4c90-b49d-0a5773afba0d"
      },
      "source": [
        "### Counting the occurences of variables\n",
        "\n",
        "To count the occurrences in a column we have to select the column first, and use the method `value_counts()`"
      ]
    },
    {
      "cell_type": "code",
      "execution_count": null,
      "id": "54625edc-c46a-4657-8cee-4294388296ff",
      "metadata": {
        "id": "54625edc-c46a-4657-8cee-4294388296ff",
        "outputId": "1400b031-e127-4ab1-a556-eb0b2bb17507"
      },
      "outputs": [
        {
          "data": {
            "text/plain": [
              "ruby            8147\n",
              "javascript      7052\n",
              "python          4092\n",
              "php             4069\n",
              "C++             2785\n",
              "java            2596\n",
              "C               2196\n",
              "go              2103\n",
              "coffeescript    2066\n",
              "scala           1823\n",
              "objective-c     1801\n",
              "haskell          950\n",
              "clojure          882\n",
              "perl             663\n",
              "erlang           500\n",
              "typescript       343\n",
              "Perl              24\n",
              "Name: prog_lang, dtype: int64"
            ]
          },
          "execution_count": 105,
          "metadata": {},
          "output_type": "execute_result"
        }
      ],
      "source": [
        "cpr.prog_lang.value_counts()"
      ]
    },
    {
      "cell_type": "markdown",
      "id": "b9f87400-75e6-4c8c-a849-9ed545c772df",
      "metadata": {
        "id": "b9f87400-75e6-4c8c-a849-9ed545c772df"
      },
      "source": [
        "If we don't want the counts, just the language, then we can use the `unique()` function."
      ]
    },
    {
      "cell_type": "code",
      "execution_count": null,
      "id": "1766a839-84c7-4bb5-baaa-35987e88c61b",
      "metadata": {
        "id": "1766a839-84c7-4bb5-baaa-35987e88c61b",
        "outputId": "e051cffb-5acc-408a-d632-b47ce254c5ae"
      },
      "outputs": [
        {
          "data": {
            "text/plain": [
              "array(['typescript', 'scala', 'ruby', 'python', 'php', 'perl',\n",
              "       'objective-c', 'javascript', 'java', 'haskell', 'go', 'erlang',\n",
              "       'coffeescript', 'clojure', 'Perl', 'C++', 'C'], dtype=object)"
            ]
          },
          "execution_count": 106,
          "metadata": {},
          "output_type": "execute_result"
        }
      ],
      "source": [
        "cpr[\"prog_lang\"].unique()"
      ]
    },
    {
      "cell_type": "markdown",
      "id": "b216fe1d-e123-4353-af62-927f735ebe3d",
      "metadata": {
        "id": "b216fe1d-e123-4353-af62-927f735ebe3d"
      },
      "source": [
        "## Selecting columns and filtering data\n",
        "\n",
        "Let's say that I just want to look at the columns programming language, project name and number of commits. I can select them and create a new, smaller dataframe."
      ]
    },
    {
      "cell_type": "code",
      "execution_count": null,
      "id": "5614fc6f-0387-4a86-b788-bc1407cbfbed",
      "metadata": {
        "id": "5614fc6f-0387-4a86-b788-bc1407cbfbed",
        "outputId": "fc58acd2-cedf-46a5-d8cd-60ee148ef5eb"
      },
      "outputs": [
        {
          "data": {
            "text/html": [
              "<div>\n",
              "<style scoped>\n",
              "    .dataframe tbody tr th:only-of-type {\n",
              "        vertical-align: middle;\n",
              "    }\n",
              "\n",
              "    .dataframe tbody tr th {\n",
              "        vertical-align: top;\n",
              "    }\n",
              "\n",
              "    .dataframe thead th {\n",
              "        text-align: right;\n",
              "    }\n",
              "</style>\n",
              "<table border=\"1\" class=\"dataframe\">\n",
              "  <thead>\n",
              "    <tr style=\"text-align: right;\">\n",
              "      <th></th>\n",
              "      <th>prog_lang</th>\n",
              "      <th>project_name</th>\n",
              "      <th>num_commits</th>\n",
              "    </tr>\n",
              "  </thead>\n",
              "  <tbody>\n",
              "    <tr>\n",
              "      <th>14351</th>\n",
              "      <td>typescript</td>\n",
              "      <td>winjs</td>\n",
              "      <td>11</td>\n",
              "    </tr>\n",
              "    <tr>\n",
              "      <th>40943</th>\n",
              "      <td>typescript</td>\n",
              "      <td>winjs</td>\n",
              "      <td>10</td>\n",
              "    </tr>\n",
              "    <tr>\n",
              "      <th>35890</th>\n",
              "      <td>typescript</td>\n",
              "      <td>winjs</td>\n",
              "      <td>6</td>\n",
              "    </tr>\n",
              "    <tr>\n",
              "      <th>1800</th>\n",
              "      <td>typescript</td>\n",
              "      <td>winjs</td>\n",
              "      <td>3</td>\n",
              "    </tr>\n",
              "    <tr>\n",
              "      <th>20245</th>\n",
              "      <td>typescript</td>\n",
              "      <td>winjs</td>\n",
              "      <td>3</td>\n",
              "    </tr>\n",
              "  </tbody>\n",
              "</table>\n",
              "</div>"
            ],
            "text/plain": [
              "        prog_lang project_name  num_commits\n",
              "14351  typescript        winjs           11\n",
              "40943  typescript        winjs           10\n",
              "35890  typescript        winjs            6\n",
              "1800   typescript        winjs            3\n",
              "20245  typescript        winjs            3"
            ]
          },
          "execution_count": 107,
          "metadata": {},
          "output_type": "execute_result"
        }
      ],
      "source": [
        "selected_columns = [\"prog_lang\", \"project_name\", \"num_commits\"]\n",
        "my_subset = cpr[selected_columns]\n",
        "my_subset.head()"
      ]
    },
    {
      "cell_type": "markdown",
      "id": "fd80f55d-5027-47e4-b718-d73c7f761225",
      "metadata": {
        "id": "fd80f55d-5027-47e4-b718-d73c7f761225"
      },
      "source": [
        "But that gives me all the information about the selected columns. What if now I want to filter out only those projects written in `C` language?"
      ]
    },
    {
      "cell_type": "code",
      "execution_count": null,
      "id": "28bceb93-cd31-44ba-a39e-206457324559",
      "metadata": {
        "id": "28bceb93-cd31-44ba-a39e-206457324559",
        "outputId": "31cc4095-ee41-40da-a58a-e1970de84260"
      },
      "outputs": [
        {
          "data": {
            "text/html": [
              "<div>\n",
              "<style scoped>\n",
              "    .dataframe tbody tr th:only-of-type {\n",
              "        vertical-align: middle;\n",
              "    }\n",
              "\n",
              "    .dataframe tbody tr th {\n",
              "        vertical-align: top;\n",
              "    }\n",
              "\n",
              "    .dataframe thead th {\n",
              "        text-align: right;\n",
              "    }\n",
              "</style>\n",
              "<table border=\"1\" class=\"dataframe\">\n",
              "  <thead>\n",
              "    <tr style=\"text-align: right;\">\n",
              "      <th></th>\n",
              "      <th>pull_req_number</th>\n",
              "      <th>num_commits</th>\n",
              "    </tr>\n",
              "  </thead>\n",
              "  <tbody>\n",
              "    <tr>\n",
              "      <th>count</th>\n",
              "      <td>389.000000</td>\n",
              "      <td>389.0</td>\n",
              "    </tr>\n",
              "    <tr>\n",
              "      <th>mean</th>\n",
              "      <td>3815.380463</td>\n",
              "      <td>2.0</td>\n",
              "    </tr>\n",
              "    <tr>\n",
              "      <th>std</th>\n",
              "      <td>3264.957089</td>\n",
              "      <td>0.0</td>\n",
              "    </tr>\n",
              "    <tr>\n",
              "      <th>min</th>\n",
              "      <td>3.000000</td>\n",
              "      <td>2.0</td>\n",
              "    </tr>\n",
              "    <tr>\n",
              "      <th>25%</th>\n",
              "      <td>1061.000000</td>\n",
              "      <td>2.0</td>\n",
              "    </tr>\n",
              "    <tr>\n",
              "      <th>50%</th>\n",
              "      <td>2860.000000</td>\n",
              "      <td>2.0</td>\n",
              "    </tr>\n",
              "    <tr>\n",
              "      <th>75%</th>\n",
              "      <td>5831.000000</td>\n",
              "      <td>2.0</td>\n",
              "    </tr>\n",
              "    <tr>\n",
              "      <th>max</th>\n",
              "      <td>12724.000000</td>\n",
              "      <td>2.0</td>\n",
              "    </tr>\n",
              "  </tbody>\n",
              "</table>\n",
              "</div>"
            ],
            "text/plain": [
              "       pull_req_number  num_commits\n",
              "count       389.000000        389.0\n",
              "mean       3815.380463          2.0\n",
              "std        3264.957089          0.0\n",
              "min           3.000000          2.0\n",
              "25%        1061.000000          2.0\n",
              "50%        2860.000000          2.0\n",
              "75%        5831.000000          2.0\n",
              "max       12724.000000          2.0"
            ]
          },
          "execution_count": 108,
          "metadata": {},
          "output_type": "execute_result"
        }
      ],
      "source": [
        "only_C = cpr[(cpr[\"prog_lang\"]=='C') & (cpr[\"num_commits\"]==2)] #I don't need the column name anymore, it's just C!\n",
        "only_C.describe()"
      ]
    },
    {
      "cell_type": "markdown",
      "id": "893ae2ed-c221-46cb-b7a7-beb38f7461f2",
      "metadata": {
        "id": "893ae2ed-c221-46cb-b7a7-beb38f7461f2"
      },
      "source": [
        "We can filter whatever we want, for example, let's filter only when the number of commits is equal to 1 (_the casual contributors_)."
      ]
    },
    {
      "cell_type": "code",
      "execution_count": null,
      "id": "c7b7de75-8ae3-42f4-8408-1abe4b377cb0",
      "metadata": {
        "id": "c7b7de75-8ae3-42f4-8408-1abe4b377cb0",
        "outputId": "e942438d-1bc6-42a5-e0e7-647154459586"
      },
      "outputs": [
        {
          "data": {
            "text/html": [
              "<div>\n",
              "<style scoped>\n",
              "    .dataframe tbody tr th:only-of-type {\n",
              "        vertical-align: middle;\n",
              "    }\n",
              "\n",
              "    .dataframe tbody tr th {\n",
              "        vertical-align: top;\n",
              "    }\n",
              "\n",
              "    .dataframe thead th {\n",
              "        text-align: right;\n",
              "    }\n",
              "</style>\n",
              "<table border=\"1\" class=\"dataframe\">\n",
              "  <thead>\n",
              "    <tr style=\"text-align: right;\">\n",
              "      <th></th>\n",
              "      <th>pull_req_number</th>\n",
              "      <th>num_commits</th>\n",
              "    </tr>\n",
              "  </thead>\n",
              "  <tbody>\n",
              "    <tr>\n",
              "      <th>count</th>\n",
              "      <td>29655.000000</td>\n",
              "      <td>29655.0</td>\n",
              "    </tr>\n",
              "    <tr>\n",
              "      <th>mean</th>\n",
              "      <td>4183.982769</td>\n",
              "      <td>1.0</td>\n",
              "    </tr>\n",
              "    <tr>\n",
              "      <th>std</th>\n",
              "      <td>6036.266784</td>\n",
              "      <td>0.0</td>\n",
              "    </tr>\n",
              "    <tr>\n",
              "      <th>min</th>\n",
              "      <td>1.000000</td>\n",
              "      <td>1.0</td>\n",
              "    </tr>\n",
              "    <tr>\n",
              "      <th>25%</th>\n",
              "      <td>566.000000</td>\n",
              "      <td>1.0</td>\n",
              "    </tr>\n",
              "    <tr>\n",
              "      <th>50%</th>\n",
              "      <td>1768.000000</td>\n",
              "      <td>1.0</td>\n",
              "    </tr>\n",
              "    <tr>\n",
              "      <th>75%</th>\n",
              "      <td>4969.500000</td>\n",
              "      <td>1.0</td>\n",
              "    </tr>\n",
              "    <tr>\n",
              "      <th>max</th>\n",
              "      <td>38174.000000</td>\n",
              "      <td>1.0</td>\n",
              "    </tr>\n",
              "  </tbody>\n",
              "</table>\n",
              "</div>"
            ],
            "text/plain": [
              "       pull_req_number  num_commits\n",
              "count     29655.000000      29655.0\n",
              "mean       4183.982769          1.0\n",
              "std        6036.266784          0.0\n",
              "min           1.000000          1.0\n",
              "25%         566.000000          1.0\n",
              "50%        1768.000000          1.0\n",
              "75%        4969.500000          1.0\n",
              "max       38174.000000          1.0"
            ]
          },
          "execution_count": 109,
          "metadata": {},
          "output_type": "execute_result"
        }
      ],
      "source": [
        "single_commit = cpr[cpr[\"num_commits\"] == 1]\n",
        "single_commit.describe()"
      ]
    },
    {
      "cell_type": "markdown",
      "id": "1122fd73-9114-4067-a190-f8e1c2dc588e",
      "metadata": {
        "id": "1122fd73-9114-4067-a190-f8e1c2dc588e"
      },
      "source": [
        "We can create filters in variables, and use whenever we want."
      ]
    },
    {
      "cell_type": "code",
      "execution_count": null,
      "id": "8daa0998-a380-42a5-993a-2c58efa8cc9c",
      "metadata": {
        "id": "8daa0998-a380-42a5-993a-2c58efa8cc9c"
      },
      "outputs": [],
      "source": [
        "one_commit = cpr[\"num_commits\"]==1\n",
        "language_C = cpr[\"prog_lang\"]==\"C\"\n",
        "multi_commit = cpr[\"num_commits\"]>1"
      ]
    },
    {
      "cell_type": "code",
      "execution_count": null,
      "id": "851a7fbc-c0b4-4daa-9004-02ddcd769b41",
      "metadata": {
        "id": "851a7fbc-c0b4-4daa-9004-02ddcd769b41",
        "outputId": "06b91f68-8b23-4662-ed17-5f3daa1e5884"
      },
      "outputs": [
        {
          "data": {
            "text/html": [
              "<div>\n",
              "<style scoped>\n",
              "    .dataframe tbody tr th:only-of-type {\n",
              "        vertical-align: middle;\n",
              "    }\n",
              "\n",
              "    .dataframe tbody tr th {\n",
              "        vertical-align: top;\n",
              "    }\n",
              "\n",
              "    .dataframe thead th {\n",
              "        text-align: right;\n",
              "    }\n",
              "</style>\n",
              "<table border=\"1\" class=\"dataframe\">\n",
              "  <thead>\n",
              "    <tr style=\"text-align: right;\">\n",
              "      <th></th>\n",
              "      <th>user</th>\n",
              "      <th>project_name</th>\n",
              "      <th>prog_lang</th>\n",
              "      <th>pull_req_number</th>\n",
              "      <th>num_commits</th>\n",
              "    </tr>\n",
              "  </thead>\n",
              "  <tbody>\n",
              "    <tr>\n",
              "      <th>1625</th>\n",
              "      <td>user1464</td>\n",
              "      <td>twemproxy</td>\n",
              "      <td>C</td>\n",
              "      <td>284</td>\n",
              "      <td>1</td>\n",
              "    </tr>\n",
              "    <tr>\n",
              "      <th>1696</th>\n",
              "      <td>user1526</td>\n",
              "      <td>twemproxy</td>\n",
              "      <td>C</td>\n",
              "      <td>224</td>\n",
              "      <td>1</td>\n",
              "    </tr>\n",
              "    <tr>\n",
              "      <th>2259</th>\n",
              "      <td>user2025</td>\n",
              "      <td>twemproxy</td>\n",
              "      <td>C</td>\n",
              "      <td>398</td>\n",
              "      <td>1</td>\n",
              "    </tr>\n",
              "    <tr>\n",
              "      <th>2522</th>\n",
              "      <td>user2268</td>\n",
              "      <td>twemproxy</td>\n",
              "      <td>C</td>\n",
              "      <td>387</td>\n",
              "      <td>1</td>\n",
              "    </tr>\n",
              "    <tr>\n",
              "      <th>3210</th>\n",
              "      <td>user2872</td>\n",
              "      <td>twemproxy</td>\n",
              "      <td>C</td>\n",
              "      <td>311</td>\n",
              "      <td>1</td>\n",
              "    </tr>\n",
              "    <tr>\n",
              "      <th>3946</th>\n",
              "      <td>user3515</td>\n",
              "      <td>twemproxy</td>\n",
              "      <td>C</td>\n",
              "      <td>366</td>\n",
              "      <td>1</td>\n",
              "    </tr>\n",
              "    <tr>\n",
              "      <th>4774</th>\n",
              "      <td>user4209</td>\n",
              "      <td>twemproxy</td>\n",
              "      <td>C</td>\n",
              "      <td>291</td>\n",
              "      <td>1</td>\n",
              "    </tr>\n",
              "    <tr>\n",
              "      <th>5802</th>\n",
              "      <td>user5103</td>\n",
              "      <td>twemproxy</td>\n",
              "      <td>C</td>\n",
              "      <td>3</td>\n",
              "      <td>1</td>\n",
              "    </tr>\n",
              "    <tr>\n",
              "      <th>7326</th>\n",
              "      <td>user6419</td>\n",
              "      <td>twemproxy</td>\n",
              "      <td>C</td>\n",
              "      <td>58</td>\n",
              "      <td>1</td>\n",
              "    </tr>\n",
              "    <tr>\n",
              "      <th>7811</th>\n",
              "      <td>user6850</td>\n",
              "      <td>twemproxy</td>\n",
              "      <td>C</td>\n",
              "      <td>217</td>\n",
              "      <td>1</td>\n",
              "    </tr>\n",
              "  </tbody>\n",
              "</table>\n",
              "</div>"
            ],
            "text/plain": [
              "          user project_name prog_lang  pull_req_number  num_commits\n",
              "1625  user1464    twemproxy         C              284            1\n",
              "1696  user1526    twemproxy         C              224            1\n",
              "2259  user2025    twemproxy         C              398            1\n",
              "2522  user2268    twemproxy         C              387            1\n",
              "3210  user2872    twemproxy         C              311            1\n",
              "3946  user3515    twemproxy         C              366            1\n",
              "4774  user4209    twemproxy         C              291            1\n",
              "5802  user5103    twemproxy         C                3            1\n",
              "7326  user6419    twemproxy         C               58            1\n",
              "7811  user6850    twemproxy         C              217            1"
            ]
          },
          "execution_count": 110,
          "metadata": {},
          "output_type": "execute_result"
        }
      ],
      "source": [
        "cpr[one_commit & language_C].head(10)"
      ]
    },
    {
      "cell_type": "markdown",
      "id": "07968202-e4ec-443a-b88d-f2b44a923f0e",
      "metadata": {
        "id": "07968202-e4ec-443a-b88d-f2b44a923f0e"
      },
      "source": [
        "And we can use logical operators like OR (`|`) and AND (`&`) to create a filtering expression."
      ]
    },
    {
      "cell_type": "code",
      "execution_count": null,
      "id": "95711610-58cc-4b91-909c-886f9ffec53a",
      "metadata": {
        "id": "95711610-58cc-4b91-909c-886f9ffec53a"
      },
      "outputs": [],
      "source": [
        "cpr[one_commit & language_C].head(10)"
      ]
    },
    {
      "cell_type": "markdown",
      "id": "806d0e3f-52d2-4b4b-85be-5cde0cfb960a",
      "metadata": {
        "id": "806d0e3f-52d2-4b4b-85be-5cde0cfb960a"
      },
      "source": [
        "As another example, let's filter the pull requests with more than one commit for the projects written in C and those with 2 commits for the projects written in \"typescript\"."
      ]
    },
    {
      "cell_type": "code",
      "execution_count": null,
      "id": "20853c56-50d2-4042-9a1b-67d8e5bc0c46",
      "metadata": {
        "id": "20853c56-50d2-4042-9a1b-67d8e5bc0c46"
      },
      "outputs": [],
      "source": [
        "two_commits = cpr[\"num_commits\"]==2\n",
        "language_typescript = cpr[\"prog_lang\"]==\"typescript\""
      ]
    },
    {
      "cell_type": "code",
      "execution_count": null,
      "id": "28b28d67-f2fb-4c46-91bb-b91848c5353e",
      "metadata": {
        "id": "28b28d67-f2fb-4c46-91bb-b91848c5353e"
      },
      "outputs": [],
      "source": [
        "cpr[(one_commit & language_C) | (two_commits & language_typescript)].head()"
      ]
    },
    {
      "cell_type": "code",
      "execution_count": null,
      "id": "7f92c01a-a01d-4867-8be5-9a0237b98074",
      "metadata": {
        "id": "7f92c01a-a01d-4867-8be5-9a0237b98074"
      },
      "outputs": [],
      "source": [
        "cpr[(one_commit & language_C) | (two_commits & language_typescript)].tail()"
      ]
    },
    {
      "cell_type": "markdown",
      "id": "6d77aad5-cd1a-4100-a0b3-9576f3b89caa",
      "metadata": {
        "id": "6d77aad5-cd1a-4100-a0b3-9576f3b89caa"
      },
      "source": [
        "Now, imagine that I want to convert the number of commits into a feature by creating bands of values that we define:\n",
        "    \n",
        " * 1 commit = group 1\n",
        " * 2 - 5 commits = group 2\n",
        " * 6 - 20 commits = group 3\n",
        " *  more than 20 = group 4\n",
        "\n",
        "We will use `loc` to achieve that!"
      ]
    },
    {
      "cell_type": "code",
      "execution_count": null,
      "id": "6b93263d-422b-4f56-87aa-81b80f87d889",
      "metadata": {
        "id": "6b93263d-422b-4f56-87aa-81b80f87d889"
      },
      "outputs": [],
      "source": [
        "cpr = pandas.read_csv(\"commits_pr.csv\")\n",
        "\n",
        "cpr.loc[cpr[\"num_commits\"]==1, \"group_commit\"]=1\n",
        "cpr.loc[(cpr[\"num_commits\"]>1) & (cpr[\"num_commits\"]<=5), \"group_commit\"]=2\n",
        "cpr.loc[(cpr[\"num_commits\"]>5) & (cpr[\"num_commits\"]<=20), \"group_commit\"]=3\n",
        "cpr.loc[cpr[\"num_commits\"]>20, \"group_commit\"]=4\n",
        "cpr.group_commit = cpr.group_commit.astype('int32')"
      ]
    },
    {
      "cell_type": "code",
      "execution_count": null,
      "id": "35fba7b3-67f0-4f1a-a3cc-d8706f7e0c05",
      "metadata": {
        "id": "35fba7b3-67f0-4f1a-a3cc-d8706f7e0c05",
        "outputId": "f891fa12-6d83-4f49-8703-89319fb11904"
      },
      "outputs": [
        {
          "data": {
            "text/html": [
              "<div>\n",
              "<style scoped>\n",
              "    .dataframe tbody tr th:only-of-type {\n",
              "        vertical-align: middle;\n",
              "    }\n",
              "\n",
              "    .dataframe tbody tr th {\n",
              "        vertical-align: top;\n",
              "    }\n",
              "\n",
              "    .dataframe thead th {\n",
              "        text-align: right;\n",
              "    }\n",
              "</style>\n",
              "<table border=\"1\" class=\"dataframe\">\n",
              "  <thead>\n",
              "    <tr style=\"text-align: right;\">\n",
              "      <th></th>\n",
              "      <th>user</th>\n",
              "      <th>project_name</th>\n",
              "      <th>prog_lang</th>\n",
              "      <th>pull_req_number</th>\n",
              "      <th>num_commits</th>\n",
              "      <th>group_commit</th>\n",
              "    </tr>\n",
              "  </thead>\n",
              "  <tbody>\n",
              "    <tr>\n",
              "      <th>0</th>\n",
              "      <td>user1</td>\n",
              "      <td>php-src</td>\n",
              "      <td>C</td>\n",
              "      <td>122</td>\n",
              "      <td>1</td>\n",
              "      <td>1</td>\n",
              "    </tr>\n",
              "    <tr>\n",
              "      <th>1</th>\n",
              "      <td>user2</td>\n",
              "      <td>activeadmin</td>\n",
              "      <td>ruby</td>\n",
              "      <td>3325</td>\n",
              "      <td>1</td>\n",
              "      <td>1</td>\n",
              "    </tr>\n",
              "    <tr>\n",
              "      <th>2</th>\n",
              "      <td>user3</td>\n",
              "      <td>YouCompleteMe</td>\n",
              "      <td>python</td>\n",
              "      <td>2128</td>\n",
              "      <td>2</td>\n",
              "      <td>2</td>\n",
              "    </tr>\n",
              "    <tr>\n",
              "      <th>3</th>\n",
              "      <td>user4</td>\n",
              "      <td>requests</td>\n",
              "      <td>python</td>\n",
              "      <td>2663</td>\n",
              "      <td>1</td>\n",
              "      <td>1</td>\n",
              "    </tr>\n",
              "    <tr>\n",
              "      <th>4</th>\n",
              "      <td>user5</td>\n",
              "      <td>ipython</td>\n",
              "      <td>python</td>\n",
              "      <td>7901</td>\n",
              "      <td>1</td>\n",
              "      <td>1</td>\n",
              "    </tr>\n",
              "  </tbody>\n",
              "</table>\n",
              "</div>"
            ],
            "text/plain": [
              "    user   project_name prog_lang  pull_req_number  num_commits  group_commit\n",
              "0  user1        php-src         C              122            1             1\n",
              "1  user2    activeadmin      ruby             3325            1             1\n",
              "2  user3  YouCompleteMe    python             2128            2             2\n",
              "3  user4       requests    python             2663            1             1\n",
              "4  user5        ipython    python             7901            1             1"
            ]
          },
          "execution_count": 112,
          "metadata": {},
          "output_type": "execute_result"
        }
      ],
      "source": [
        "cpr.head()"
      ]
    },
    {
      "cell_type": "markdown",
      "id": "a75ce91d-ebae-4e23-bbda-bdbf4677e0c9",
      "metadata": {
        "id": "a75ce91d-ebae-4e23-bbda-bdbf4677e0c9"
      },
      "source": [
        "Let's work with a new dataset. This is not only related to casual contributors, but all contributors. Let's check the correlation between two columns using the `corr()` function."
      ]
    },
    {
      "cell_type": "code",
      "execution_count": null,
      "id": "fc86e675-2e02-4e02-a068-51f7b275cdd9",
      "metadata": {
        "id": "fc86e675-2e02-4e02-a068-51f7b275cdd9",
        "outputId": "afc36c56-fa4a-4b53-8438-c9b3b9edecab"
      },
      "outputs": [
        {
          "data": {
            "text/html": [
              "<div>\n",
              "<style scoped>\n",
              "    .dataframe tbody tr th:only-of-type {\n",
              "        vertical-align: middle;\n",
              "    }\n",
              "\n",
              "    .dataframe tbody tr th {\n",
              "        vertical-align: top;\n",
              "    }\n",
              "\n",
              "    .dataframe thead th {\n",
              "        text-align: right;\n",
              "    }\n",
              "</style>\n",
              "<table border=\"1\" class=\"dataframe\">\n",
              "  <thead>\n",
              "    <tr style=\"text-align: right;\">\n",
              "      <th></th>\n",
              "      <th>user</th>\n",
              "      <th>project_name</th>\n",
              "      <th>prog_lang</th>\n",
              "      <th>num_commits</th>\n",
              "      <th>additions</th>\n",
              "      <th>deletions</th>\n",
              "      <th>files_changed</th>\n",
              "      <th>num_comments</th>\n",
              "    </tr>\n",
              "  </thead>\n",
              "  <tbody>\n",
              "    <tr>\n",
              "      <th>52041</th>\n",
              "      <td>user_13168</td>\n",
              "      <td>cocos2d-x</td>\n",
              "      <td>C++</td>\n",
              "      <td>10000.0</td>\n",
              "      <td>1320472.0</td>\n",
              "      <td>24870.0</td>\n",
              "      <td>5865.0</td>\n",
              "      <td>0.0</td>\n",
              "    </tr>\n",
              "    <tr>\n",
              "      <th>52036</th>\n",
              "      <td>user_13168</td>\n",
              "      <td>cocos2d-x</td>\n",
              "      <td>C++</td>\n",
              "      <td>10000.0</td>\n",
              "      <td>1321513.0</td>\n",
              "      <td>24870.0</td>\n",
              "      <td>5905.0</td>\n",
              "      <td>0.0</td>\n",
              "    </tr>\n",
              "    <tr>\n",
              "      <th>54883</th>\n",
              "      <td>user_13227</td>\n",
              "      <td>cocos2d-x</td>\n",
              "      <td>C++</td>\n",
              "      <td>10000.0</td>\n",
              "      <td>1549480.0</td>\n",
              "      <td>843841.0</td>\n",
              "      <td>9726.0</td>\n",
              "      <td>0.0</td>\n",
              "    </tr>\n",
              "    <tr>\n",
              "      <th>52033</th>\n",
              "      <td>user_13168</td>\n",
              "      <td>cocos2d-x</td>\n",
              "      <td>C++</td>\n",
              "      <td>10000.0</td>\n",
              "      <td>1320976.0</td>\n",
              "      <td>24870.0</td>\n",
              "      <td>5892.0</td>\n",
              "      <td>0.0</td>\n",
              "    </tr>\n",
              "    <tr>\n",
              "      <th>61760</th>\n",
              "      <td>user_13751</td>\n",
              "      <td>cocos2d-x</td>\n",
              "      <td>C++</td>\n",
              "      <td>10000.0</td>\n",
              "      <td>1163795.0</td>\n",
              "      <td>24870.0</td>\n",
              "      <td>5241.0</td>\n",
              "      <td>0.0</td>\n",
              "    </tr>\n",
              "    <tr>\n",
              "      <th>52034</th>\n",
              "      <td>user_13168</td>\n",
              "      <td>cocos2d-x</td>\n",
              "      <td>C++</td>\n",
              "      <td>10000.0</td>\n",
              "      <td>1321296.0</td>\n",
              "      <td>24870.0</td>\n",
              "      <td>5905.0</td>\n",
              "      <td>0.0</td>\n",
              "    </tr>\n",
              "    <tr>\n",
              "      <th>61813</th>\n",
              "      <td>user_13757</td>\n",
              "      <td>cocos2d-x</td>\n",
              "      <td>C++</td>\n",
              "      <td>10000.0</td>\n",
              "      <td>1324952.0</td>\n",
              "      <td>24870.0</td>\n",
              "      <td>5903.0</td>\n",
              "      <td>0.0</td>\n",
              "    </tr>\n",
              "    <tr>\n",
              "      <th>52035</th>\n",
              "      <td>user_13168</td>\n",
              "      <td>cocos2d-x</td>\n",
              "      <td>C++</td>\n",
              "      <td>10000.0</td>\n",
              "      <td>1321419.0</td>\n",
              "      <td>24870.0</td>\n",
              "      <td>5890.0</td>\n",
              "      <td>0.0</td>\n",
              "    </tr>\n",
              "    <tr>\n",
              "      <th>61841</th>\n",
              "      <td>user_13764</td>\n",
              "      <td>cocos2d-x</td>\n",
              "      <td>C++</td>\n",
              "      <td>10000.0</td>\n",
              "      <td>1539898.0</td>\n",
              "      <td>21568.0</td>\n",
              "      <td>6574.0</td>\n",
              "      <td>0.0</td>\n",
              "    </tr>\n",
              "    <tr>\n",
              "      <th>54495</th>\n",
              "      <td>user_13188</td>\n",
              "      <td>cocos2d-x</td>\n",
              "      <td>C++</td>\n",
              "      <td>10000.0</td>\n",
              "      <td>1249461.0</td>\n",
              "      <td>1129333.0</td>\n",
              "      <td>8848.0</td>\n",
              "      <td>0.0</td>\n",
              "    </tr>\n",
              "  </tbody>\n",
              "</table>\n",
              "</div>"
            ],
            "text/plain": [
              "             user project_name prog_lang  num_commits  additions  deletions  \\\n",
              "52041  user_13168    cocos2d-x       C++      10000.0  1320472.0    24870.0   \n",
              "52036  user_13168    cocos2d-x       C++      10000.0  1321513.0    24870.0   \n",
              "54883  user_13227    cocos2d-x       C++      10000.0  1549480.0   843841.0   \n",
              "52033  user_13168    cocos2d-x       C++      10000.0  1320976.0    24870.0   \n",
              "61760  user_13751    cocos2d-x       C++      10000.0  1163795.0    24870.0   \n",
              "52034  user_13168    cocos2d-x       C++      10000.0  1321296.0    24870.0   \n",
              "61813  user_13757    cocos2d-x       C++      10000.0  1324952.0    24870.0   \n",
              "52035  user_13168    cocos2d-x       C++      10000.0  1321419.0    24870.0   \n",
              "61841  user_13764    cocos2d-x       C++      10000.0  1539898.0    21568.0   \n",
              "54495  user_13188    cocos2d-x       C++      10000.0  1249461.0  1129333.0   \n",
              "\n",
              "       files_changed  num_comments  \n",
              "52041         5865.0           0.0  \n",
              "52036         5905.0           0.0  \n",
              "54883         9726.0           0.0  \n",
              "52033         5892.0           0.0  \n",
              "61760         5241.0           0.0  \n",
              "52034         5905.0           0.0  \n",
              "61813         5903.0           0.0  \n",
              "52035         5890.0           0.0  \n",
              "61841         6574.0           0.0  \n",
              "54495         8848.0           0.0  "
            ]
          },
          "execution_count": 115,
          "metadata": {},
          "output_type": "execute_result"
        }
      ],
      "source": [
        "commits_complete = pandas.read_csv('commit_complete.csv')\n",
        "commits_complete.sort_values('num_commits', ascending=False).head(10)"
      ]
    },
    {
      "cell_type": "code",
      "execution_count": null,
      "id": "ad869022-56c5-4819-91ee-d5e82f2e8009",
      "metadata": {
        "id": "ad869022-56c5-4819-91ee-d5e82f2e8009",
        "outputId": "41895862-39d3-464f-9cae-b927d350c7eb"
      },
      "outputs": [
        {
          "data": {
            "text/plain": [
              "0.6573205139433458"
            ]
          },
          "execution_count": 116,
          "metadata": {},
          "output_type": "execute_result"
        }
      ],
      "source": [
        "commits_complete['num_commits'].corr(commits_complete['additions'])"
      ]
    },
    {
      "cell_type": "code",
      "execution_count": null,
      "id": "b0918ae9-88bb-4c59-aa23-0a1962ceafc8",
      "metadata": {
        "id": "b0918ae9-88bb-4c59-aa23-0a1962ceafc8",
        "outputId": "29963f38-d7a6-4300-8bb5-f6e4c4205deb"
      },
      "outputs": [
        {
          "data": {
            "text/html": [
              "<div>\n",
              "<style scoped>\n",
              "    .dataframe tbody tr th:only-of-type {\n",
              "        vertical-align: middle;\n",
              "    }\n",
              "\n",
              "    .dataframe tbody tr th {\n",
              "        vertical-align: top;\n",
              "    }\n",
              "\n",
              "    .dataframe thead th {\n",
              "        text-align: right;\n",
              "    }\n",
              "</style>\n",
              "<table border=\"1\" class=\"dataframe\">\n",
              "  <thead>\n",
              "    <tr style=\"text-align: right;\">\n",
              "      <th></th>\n",
              "      <th>num_commits</th>\n",
              "      <th>additions</th>\n",
              "      <th>deletions</th>\n",
              "      <th>files_changed</th>\n",
              "      <th>num_comments</th>\n",
              "    </tr>\n",
              "  </thead>\n",
              "  <tbody>\n",
              "    <tr>\n",
              "      <th>num_commits</th>\n",
              "      <td>1.000000</td>\n",
              "      <td>0.657321</td>\n",
              "      <td>0.151074</td>\n",
              "      <td>0.605152</td>\n",
              "      <td>-0.007297</td>\n",
              "    </tr>\n",
              "    <tr>\n",
              "      <th>additions</th>\n",
              "      <td>0.657321</td>\n",
              "      <td>1.000000</td>\n",
              "      <td>0.244859</td>\n",
              "      <td>0.749543</td>\n",
              "      <td>-0.002682</td>\n",
              "    </tr>\n",
              "    <tr>\n",
              "      <th>deletions</th>\n",
              "      <td>0.151074</td>\n",
              "      <td>0.244859</td>\n",
              "      <td>1.000000</td>\n",
              "      <td>0.566905</td>\n",
              "      <td>0.011876</td>\n",
              "    </tr>\n",
              "    <tr>\n",
              "      <th>files_changed</th>\n",
              "      <td>0.605152</td>\n",
              "      <td>0.749543</td>\n",
              "      <td>0.566905</td>\n",
              "      <td>1.000000</td>\n",
              "      <td>0.003657</td>\n",
              "    </tr>\n",
              "    <tr>\n",
              "      <th>num_comments</th>\n",
              "      <td>-0.007297</td>\n",
              "      <td>-0.002682</td>\n",
              "      <td>0.011876</td>\n",
              "      <td>0.003657</td>\n",
              "      <td>1.000000</td>\n",
              "    </tr>\n",
              "  </tbody>\n",
              "</table>\n",
              "</div>"
            ],
            "text/plain": [
              "               num_commits  additions  deletions  files_changed  num_comments\n",
              "num_commits       1.000000   0.657321   0.151074       0.605152     -0.007297\n",
              "additions         0.657321   1.000000   0.244859       0.749543     -0.002682\n",
              "deletions         0.151074   0.244859   1.000000       0.566905      0.011876\n",
              "files_changed     0.605152   0.749543   0.566905       1.000000      0.003657\n",
              "num_comments     -0.007297  -0.002682   0.011876       0.003657      1.000000"
            ]
          },
          "execution_count": 117,
          "metadata": {},
          "output_type": "execute_result"
        }
      ],
      "source": [
        "commits_complete.corr(method='pearson') #correlation table using the pearson method"
      ]
    },
    {
      "cell_type": "markdown",
      "id": "9862b874-7ee5-48da-93a0-bcdfde897f46",
      "metadata": {
        "id": "9862b874-7ee5-48da-93a0-bcdfde897f46"
      },
      "source": [
        "### Visualization\n",
        "\n",
        "**Plot types:**\n",
        "- 'line' : line plot (default)\n",
        "- 'bar' : vertical bar plot\n",
        "- 'barh' : horizontal bar plot\n",
        "- 'hist' : histogram\n",
        "- 'box' : boxplot\n",
        "- 'kde' : Kernel Density Estimation plot\n",
        "- 'density' : same as 'kde'\n",
        "- 'area' : area plot\n",
        "- 'pie' : pie plot\n",
        "- 'scatter' : scatter plot\n",
        "- 'hexbin' : hexbin plot\n",
        "\n",
        "**Histogram**"
      ]
    },
    {
      "cell_type": "code",
      "execution_count": null,
      "id": "4c2de6fb-dcd3-4508-a84e-d67dafec64f5",
      "metadata": {
        "id": "4c2de6fb-dcd3-4508-a84e-d67dafec64f5",
        "outputId": "7ef79c92-0ecf-4d1e-bb56-c97c69b4817c"
      },
      "outputs": [
        {
          "data": {
            "text/plain": [
              "<AxesSubplot:ylabel='Frequency'>"
            ]
          },
          "execution_count": 118,
          "metadata": {},
          "output_type": "execute_result"
        },
        {
          "data": {
            "image/png": "[encoded data removed]",
            "text/plain": [
              "<Figure size 640x480 with 1 Axes>"
            ]
          },
          "metadata": {},
          "output_type": "display_data"
        }
      ],
      "source": [
        "import matplotlib\n",
        "cpr.num_commits.plot.hist(bins=200)"
      ]
    },
    {
      "cell_type": "code",
      "execution_count": null,
      "id": "18dc66fa-bdd9-488f-a929-fccba19bbb7d",
      "metadata": {
        "id": "18dc66fa-bdd9-488f-a929-fccba19bbb7d",
        "outputId": "e1d82380-f151-453b-aab2-aae51a225d28"
      },
      "outputs": [
        {
          "data": {
            "text/plain": [
              "<matplotlib.legend.Legend at 0x23294f5c040>"
            ]
          },
          "execution_count": 119,
          "metadata": {},
          "output_type": "execute_result"
        },
        {
          "data": {
            "image/png": "[encoded data removed]",
            "text/plain": [
              "<Figure size 640x480 with 1 Axes>"
            ]
          },
          "metadata": {},
          "output_type": "display_data"
        }
      ],
      "source": [
        "cpr[cpr[\"prog_lang\"]==\"C\"].num_commits.plot.hist(bins=20, color=\"red\", alpha=0.5)\n",
        "cpr[cpr[\"prog_lang\"]==\"java\"].num_commits.plot.hist(bins=20, alpha=0.5).legend([\"C\", \"Java\"])"
      ]
    },
    {
      "cell_type": "code",
      "execution_count": null,
      "id": "e5bdbf4d-a712-45d7-bb3c-962017f82534",
      "metadata": {
        "id": "e5bdbf4d-a712-45d7-bb3c-962017f82534",
        "outputId": "c06d4c20-39a0-409a-ecef-66f6a858e7e1"
      },
      "outputs": [
        {
          "data": {
            "text/plain": [
              "<AxesSubplot:>"
            ]
          },
          "execution_count": 120,
          "metadata": {},
          "output_type": "execute_result"
        },
        {
          "data": {
            "image/png": "[encoded data removed]",
            "text/plain": [
              "<Figure size 640x480 with 1 Axes>"
            ]
          },
          "metadata": {},
          "output_type": "display_data"
        }
      ],
      "source": [
        "cpr['prog_lang'].value_counts().plot.bar()"
      ]
    },
    {
      "cell_type": "code",
      "execution_count": null,
      "id": "6ebbb902-f428-496e-8cca-42158a0bd601",
      "metadata": {
        "id": "6ebbb902-f428-496e-8cca-42158a0bd601",
        "outputId": "62276d26-46e0-4e43-dcf2-718df74ea396"
      },
      "outputs": [
        {
          "data": {
            "text/plain": [
              "<AxesSubplot:>"
            ]
          },
          "execution_count": 121,
          "metadata": {},
          "output_type": "execute_result"
        },
        {
          "data": {
            "image/png": "[encoded data removed]",
            "text/plain": [
              "<Figure size 640x480 with 1 Axes>"
            ]
          },
          "metadata": {},
          "output_type": "display_data"
        }
      ],
      "source": [
        "cpr[cpr[\"prog_lang\"]== \"C\"].project_name.value_counts().plot.bar()"
      ]
    },
    {
      "cell_type": "code",
      "execution_count": null,
      "id": "94ab2489-f747-4d6b-b044-dab73a2055aa",
      "metadata": {
        "id": "94ab2489-f747-4d6b-b044-dab73a2055aa",
        "outputId": "60951bd9-0c1a-4c0f-e07c-c0a59b8309a5"
      },
      "outputs": [
        {
          "data": {
            "text/plain": [
              "<AxesSubplot:xlabel='files_changed', ylabel='num_commits'>"
            ]
          },
          "execution_count": 122,
          "metadata": {},
          "output_type": "execute_result"
        },
        {
          "data": {
            "image/png": "[encoded data removed]",
            "text/plain": [
              "<Figure size 640x480 with 1 Axes>"
            ]
          },
          "metadata": {},
          "output_type": "display_data"
        }
      ],
      "source": [
        "commits_complete.plot.scatter(x = \"files_changed\", y = \"num_commits\")"
      ]
    },
    {
      "cell_type": "code",
      "execution_count": null,
      "id": "57d35e8d-dc24-419a-bfe0-f208365e2201",
      "metadata": {
        "id": "57d35e8d-dc24-419a-bfe0-f208365e2201",
        "outputId": "ec0e1afa-ff79-4396-83e9-b191800a55f9"
      },
      "outputs": [
        {
          "data": {
            "text/plain": [
              "<AxesSubplot:title={'center':'num_commits'}, xlabel='prog_lang'>"
            ]
          },
          "execution_count": 123,
          "metadata": {},
          "output_type": "execute_result"
        },
        {
          "data": {
            "image/png": "[encoded data removed]",
            "text/plain": [
              "<Figure size 640x480 with 1 Axes>"
            ]
          },
          "metadata": {},
          "output_type": "display_data"
        }
      ],
      "source": [
        "lang_c = cpr.prog_lang==\"C\"\n",
        "lang_java = cpr.prog_lang==\"java\"\n",
        "lang_php = cpr.prog_lang==\"php\"\n",
        "\n",
        "\n",
        "cpr[(lang_c) | (lang_java) | (lang_php)].boxplot(by='prog_lang', column=['num_commits'])"
      ]
    },
    {
      "cell_type": "code",
      "execution_count": null,
      "id": "9e3127f9-e1ee-40b6-aa60-d1a8bf37f11c",
      "metadata": {
        "id": "9e3127f9-e1ee-40b6-aa60-d1a8bf37f11c",
        "outputId": "cb502121-e643-4290-9534-ea1affabba35"
      },
      "outputs": [
        {
          "data": {
            "text/plain": [
              "Text(0.5, 1.0, '')"
            ]
          },
          "execution_count": 124,
          "metadata": {},
          "output_type": "execute_result"
        },
        {
          "data": {
            "image/png": "[encoded data removed]",
            "text/plain": [
              "<Figure size 640x480 with 1 Axes>"
            ]
          },
          "metadata": {},
          "output_type": "display_data"
        }
      ],
      "source": [
        "plot = cpr[(lang_c) | (lang_java) | (lang_php)].boxplot(by='prog_lang', column=['num_commits'], showfliers=False, grid=False)\n",
        "\n",
        "plot.set_xlabel(\"Language\")\n",
        "plot.set_ylabel(\"# of commits\")\n",
        "plot.set_title(\"\")"
      ]
    },
    {
      "cell_type": "markdown",
      "id": "508db45e-68c0-4442-a800-f005a4beb60c",
      "metadata": {
        "id": "508db45e-68c0-4442-a800-f005a4beb60c"
      },
      "source": [
        "**Just to show...**\n",
        "\n",
        "that it is possible to do statistical analysis"
      ]
    },
    {
      "cell_type": "code",
      "execution_count": null,
      "id": "d4a24aac-5417-4d4d-809a-76a30ed2d9fa",
      "metadata": {
        "id": "d4a24aac-5417-4d4d-809a-76a30ed2d9fa"
      },
      "outputs": [],
      "source": [
        "from scipy import stats\n",
        "\n",
        "stats.mannwhitneyu(cpr[(lang_c)].num_commits, cpr[(lang_java)].num_commits)"
      ]
    },
    {
      "cell_type": "markdown",
      "id": "dc4a8de8-9dac-4081-a8d5-dc19b0518ac8",
      "metadata": {
        "id": "dc4a8de8-9dac-4081-a8d5-dc19b0518ac8"
      },
      "source": [
        "### Exporting\n",
        "\n",
        "After we clean and reshape our data to make it useful in our project, we usually want to save the improved dataset. That's when we export the dataframe back to CSV file, which is a data exchange format."
      ]
    },
    {
      "cell_type": "code",
      "execution_count": null,
      "id": "72ebe750-2541-41f9-abdc-26c04d92844f",
      "metadata": {
        "tags": [],
        "id": "72ebe750-2541-41f9-abdc-26c04d92844f",
        "outputId": "41e02deb-e2fb-4d63-9c22-fae5001fa147"
      },
      "outputs": [
        {
          "data": {
            "text/html": [
              "<div>\n",
              "<style scoped>\n",
              "    .dataframe tbody tr th:only-of-type {\n",
              "        vertical-align: middle;\n",
              "    }\n",
              "\n",
              "    .dataframe tbody tr th {\n",
              "        vertical-align: top;\n",
              "    }\n",
              "\n",
              "    .dataframe thead th {\n",
              "        text-align: right;\n",
              "    }\n",
              "</style>\n",
              "<table border=\"1\" class=\"dataframe\">\n",
              "  <thead>\n",
              "    <tr style=\"text-align: right;\">\n",
              "      <th></th>\n",
              "      <th>prog_lang</th>\n",
              "      <th>project_name</th>\n",
              "      <th>num_commits</th>\n",
              "    </tr>\n",
              "  </thead>\n",
              "  <tbody>\n",
              "    <tr>\n",
              "      <th>14351</th>\n",
              "      <td>typescript</td>\n",
              "      <td>winjs</td>\n",
              "      <td>11</td>\n",
              "    </tr>\n",
              "    <tr>\n",
              "      <th>40943</th>\n",
              "      <td>typescript</td>\n",
              "      <td>winjs</td>\n",
              "      <td>10</td>\n",
              "    </tr>\n",
              "    <tr>\n",
              "      <th>35890</th>\n",
              "      <td>typescript</td>\n",
              "      <td>winjs</td>\n",
              "      <td>6</td>\n",
              "    </tr>\n",
              "    <tr>\n",
              "      <th>1800</th>\n",
              "      <td>typescript</td>\n",
              "      <td>winjs</td>\n",
              "      <td>3</td>\n",
              "    </tr>\n",
              "    <tr>\n",
              "      <th>20245</th>\n",
              "      <td>typescript</td>\n",
              "      <td>winjs</td>\n",
              "      <td>3</td>\n",
              "    </tr>\n",
              "    <tr>\n",
              "      <th>...</th>\n",
              "      <td>...</td>\n",
              "      <td>...</td>\n",
              "      <td>...</td>\n",
              "    </tr>\n",
              "    <tr>\n",
              "      <th>2465</th>\n",
              "      <td>C</td>\n",
              "      <td>ccv</td>\n",
              "      <td>1</td>\n",
              "    </tr>\n",
              "    <tr>\n",
              "      <th>14883</th>\n",
              "      <td>C</td>\n",
              "      <td>ccv</td>\n",
              "      <td>1</td>\n",
              "    </tr>\n",
              "    <tr>\n",
              "      <th>21334</th>\n",
              "      <td>C</td>\n",
              "      <td>ccv</td>\n",
              "      <td>1</td>\n",
              "    </tr>\n",
              "    <tr>\n",
              "      <th>21728</th>\n",
              "      <td>C</td>\n",
              "      <td>ccv</td>\n",
              "      <td>1</td>\n",
              "    </tr>\n",
              "    <tr>\n",
              "      <th>39827</th>\n",
              "      <td>C</td>\n",
              "      <td>ccv</td>\n",
              "      <td>1</td>\n",
              "    </tr>\n",
              "  </tbody>\n",
              "</table>\n",
              "<p>42092 rows × 3 columns</p>\n",
              "</div>"
            ],
            "text/plain": [
              "        prog_lang project_name  num_commits\n",
              "14351  typescript        winjs           11\n",
              "40943  typescript        winjs           10\n",
              "35890  typescript        winjs            6\n",
              "1800   typescript        winjs            3\n",
              "20245  typescript        winjs            3\n",
              "...           ...          ...          ...\n",
              "2465            C          ccv            1\n",
              "14883           C          ccv            1\n",
              "21334           C          ccv            1\n",
              "21728           C          ccv            1\n",
              "39827           C          ccv            1\n",
              "\n",
              "[42092 rows x 3 columns]"
            ]
          },
          "execution_count": 125,
          "metadata": {},
          "output_type": "execute_result"
        }
      ],
      "source": [
        "my_subset"
      ]
    },
    {
      "cell_type": "code",
      "execution_count": null,
      "id": "1d2a059e-1946-49d0-badd-f2f7490b74a9",
      "metadata": {
        "id": "1d2a059e-1946-49d0-badd-f2f7490b74a9"
      },
      "outputs": [],
      "source": [
        "my_subset.to_dict()"
      ]
    },
    {
      "cell_type": "code",
      "execution_count": null,
      "id": "abb0d2eb-600d-49d8-98f0-0de4723c5b2b",
      "metadata": {
        "id": "abb0d2eb-600d-49d8-98f0-0de4723c5b2b"
      },
      "outputs": [],
      "source": [
        "cpr.to_csv('test.csv', sep=',')"
      ]
    },
    {
      "cell_type": "code",
      "execution_count": null,
      "id": "d1db0162-02a1-49b6-a2cc-072261cd08a8",
      "metadata": {
        "id": "d1db0162-02a1-49b6-a2cc-072261cd08a8"
      },
      "outputs": [],
      "source": []
    }
  ],
  "metadata": {
    "kernelspec": {
      "display_name": "Python 3 (ipykernel)",
      "language": "python",
      "name": "python3"
    },
    "language_info": {
      "codemirror_mode": {
        "name": "ipython",
        "version": 3
      },
      "file_extension": ".py",
      "mimetype": "text/x-python",
      "name": "python",
      "nbconvert_exporter": "python",
      "pygments_lexer": "ipython3",
      "version": "3.10.6"
    },
    "colab": {
      "provenance": [],
      "collapsed_sections": [
        "b9192e5b-76d5-428d-a8c4-9a7300a6dc14",
        "875d31af-4540-45df-a0e4-4797b52096c4",
        "b31aa9e8-5e83-4c90-b49d-0a5773afba0d",
        "9862b874-7ee5-48da-93a0-bcdfde897f46",
        "dc4a8de8-9dac-4081-a8d5-dc19b0518ac8"
      ],
      "include_colab_link": true
    }
  },
  "nbformat": 4,
  "nbformat_minor": 5
}