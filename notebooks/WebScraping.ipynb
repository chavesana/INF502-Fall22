{
 "cells": [
  {
   "cell_type": "markdown",
   "metadata": {
    "id": "3qP8D2lla5zy"
   },
   "source": [
    "# Web Scraping with BeautifulSoup"
   ]
  },
  {
   "cell_type": "markdown",
   "metadata": {
    "id": "8Hrf_THba5z6"
   },
   "source": [
    "### what is HTML\n",
    "\n",
    "**HyperText Markup Language**: it is NOT a programming language. As its name points it is a *markup language* is used to indicate to the browser how to layout content. \n",
    "\n",
    "HTML is based on tags, which indicates what should be done with the content.\n",
    "\n",
    "The most basic tag is the `<html>`. Everything inside of it is HTML. **Important:** We need to use tags to delimit the scope, so we use open and close tags, like in the example:"
   ]
  },
  {
   "cell_type": "markdown",
   "metadata": {
    "id": "ttKkf4sna5z8"
   },
   "source": [
    "```html\n",
    "<html>\n",
    "...\n",
    "</html>\n",
    "```"
   ]
  },
  {
   "cell_type": "markdown",
   "metadata": {
    "id": "yjI_hTCHa5z9"
   },
   "source": [
    "Inside of an `html` tag, we can use other tags. Usually, a HTML page has two other scopes defined by tags: `head` and `body`. The content of the web page goes into the body. The head contains metadata about the page, like the title of the page (it sometimes stores JS, CSSs, etc.)\n",
    "\n",
    "When scraping, we usually focus on what is inside of the `<body>  <\\body>`"
   ]
  },
  {
   "cell_type": "markdown",
   "metadata": {
    "id": "RTfdPnDza5z-"
   },
   "source": [
    "```html\n",
    "<html>\n",
    "   <head>\n",
    "        ...\n",
    "   </head>\n",
    "   <body>\n",
    "       ...\n",
    "   </body>\n",
    "</html>\n",
    "```"
   ]
  },
  {
   "cell_type": "markdown",
   "metadata": {
    "id": "zE-1RXD9a5z_"
   },
   "source": [
    "There are many possible tags with different roles, for example `<p>` delimits a paragraph `<br>` breaks a line, `<a>` represents links"
   ]
  },
  {
   "cell_type": "markdown",
   "metadata": {
    "id": "wWCMNs3Ma50A"
   },
   "source": [
    "**THIS CODE:**\n",
    "\n",
    "```html\n",
    "<html>\n",
    "   <head>\n",
    "   </head>\n",
    "\n",
    "   <body>\n",
    "      <p>\n",
    "         Paragraph\n",
    "         <a href=\"https://www.github.com\">Link to GitHub</a>\n",
    "      </p>\n",
    "      <p>\n",
    "         See the link below:\n",
    "         <a href=\"https://www.twitter.com\">Twitter</a> </p>\n",
    "   </body>\n",
    "</html>\n",
    "```\n"
   ]
  },
  {
   "cell_type": "markdown",
   "metadata": {
    "id": "k_5LNWnB2hke"
   },
   "source": [
    "**BECOMES THIS:**\n",
    "\n",
    "\n",
    "<html>\n",
    "   <head>\n",
    "   </head>\n",
    "\n",
    "   <body>\n",
    "      <p>\n",
    "         Paragraph\n",
    "         <a href=\"https://www.github.com\">Link to GitHub</a>\n",
    "      </p>\n",
    "      <p>\n",
    "         See the link below:\n",
    "         <a href=\"https://www.twitter.com\">Twitter</a> </p>\n",
    "   </body>\n",
    "</html>\n"
   ]
  },
  {
   "cell_type": "markdown",
   "metadata": {
    "id": "5DexTZeSa50C"
   },
   "source": [
    "In the above example, the `<a>` tag presents an `href` attribute, which determines where the link goes.\n",
    "\n",
    "Elements (tags) may have multiple attributes to define its layout/behavior. The attribute `class`, for example, indicates the CSS that will be applied there. The attribute `id` is used sometimes to identify a tag"
   ]
  },
  {
   "cell_type": "markdown",
   "metadata": {
    "id": "GWub2XXGa50D"
   },
   "source": [
    "### Let's scrape"
   ]
  },
  {
   "cell_type": "markdown",
   "metadata": {
    "id": "mca0uHTDa50E"
   },
   "source": [
    "First, we need to import the module we are using... BeautifulSoup"
   ]
  },
  {
   "cell_type": "code",
   "execution_count": null,
   "metadata": {
    "id": "cAXRL6RCa50G"
   },
   "outputs": [],
   "source": [
    "import requests\n",
    "from bs4 import BeautifulSoup"
   ]
  },
  {
   "cell_type": "markdown",
   "metadata": {
    "id": "pB3FT-tma50J"
   },
   "source": [
    "The page we will use is an ugly page created to experiment BeautifulSoup.\n",
    "\n",
    "https://pythonprogramming.net/parsememcparseface/ \n",
    "\n",
    "Let's take a look at the page.\n",
    "\n",
    "And now, we will retrieve the page, using request (the same way we did for accessing REST services)\n"
   ]
  },
  {
   "cell_type": "code",
   "execution_count": 43,
   "metadata": {
    "id": "19O8EA83a50J"
   },
   "outputs": [],
   "source": [
    "result = requests.get(\"https://pythonprogramming.net/parsememcparseface/\")"
   ]
  },
  {
   "cell_type": "markdown",
   "metadata": {
    "id": "FC3yJRNSa50K"
   },
   "source": [
    "We use the content, to get ready to scrape\n",
    "\n",
    "And we call/instantiate our BeautifulSoup object, using our response content."
   ]
  },
  {
   "cell_type": "code",
   "execution_count": null,
   "metadata": {
    "id": "1x0g2xjfa50L"
   },
   "outputs": [],
   "source": [
    "content = result.content\n",
    "soup = BeautifulSoup(content, \"html.parser\")\n",
    "soup"
   ]
  },
  {
   "cell_type": "markdown",
   "metadata": {
    "id": "J-AJjCtqa50N"
   },
   "source": [
    "If we want, we can make it easier to read with `prettify()`"
   ]
  },
  {
   "cell_type": "code",
   "execution_count": null,
   "metadata": {
    "id": "-Sbk_D5Ca50O"
   },
   "outputs": [],
   "source": [
    "print(soup.prettify())"
   ]
  },
  {
   "cell_type": "markdown",
   "metadata": {
    "id": "LyruoMEsa50P"
   },
   "source": [
    "We can use multiple attributes/methods depending on what we want to scrape/get!\n",
    "\n",
    "First, let's get what is inside of the tag title:\n",
    "\n",
    "```html\n",
    "<html>\n",
    "<head>\n",
    "    ...\n",
    "    <meta content=\"width=device-width, initial-scale=1.0\" name=\"viewport\"/>\n",
    "    <title>Python Programming Tutorials</title>\n",
    "```"
   ]
  },
  {
   "cell_type": "code",
   "execution_count": 46,
   "metadata": {
    "id": "4wWNE1Wka50P"
   },
   "outputs": [
    {
     "name": "stdout",
     "output_type": "stream",
     "text": [
      "<title>Python Programming Tutorials</title>\n"
     ]
    }
   ],
   "source": [
    "print(soup.title)"
   ]
  },
  {
   "cell_type": "markdown",
   "metadata": {
    "id": "XKmlyTAUa50Q"
   },
   "source": [
    "We can deal with soup.title (which is a Tag object), getting the name of the tag, its content, parent, etc..."
   ]
  },
  {
   "cell_type": "code",
   "execution_count": 48,
   "metadata": {
    "id": "fiR3_QHSa50R"
   },
   "outputs": [
    {
     "name": "stdout",
     "output_type": "stream",
     "text": [
      "title\n"
     ]
    }
   ],
   "source": [
    "#returns the name of the tag\n",
    "print(soup.title.name)"
   ]
  },
  {
   "cell_type": "code",
   "execution_count": 49,
   "metadata": {
    "id": "BMOBo4zwa50S"
   },
   "outputs": [
    {
     "name": "stdout",
     "output_type": "stream",
     "text": [
      "Python Programming Tutorials\n"
     ]
    }
   ],
   "source": [
    "# returns the content of the Tag as a an object\n",
    "print(soup.title.string)"
   ]
  },
  {
   "cell_type": "code",
   "execution_count": 50,
   "metadata": {
    "id": "4wVxK_54a50S"
   },
   "outputs": [
    {
     "name": "stdout",
     "output_type": "stream",
     "text": [
      "head\n"
     ]
    }
   ],
   "source": [
    "# who is the parent of the tag in the nested structure?\n",
    "# <head> ... \n",
    "#     <title>...\n",
    "print(soup.title.parent.name)"
   ]
  },
  {
   "cell_type": "code",
   "execution_count": 51,
   "metadata": {
    "id": "gADfQ3AGa50T"
   },
   "outputs": [
    {
     "name": "stdout",
     "output_type": "stream",
     "text": [
      "<p class=\"introduction\">Oh, hello! This is a <span style=\"font-size:115%\">wonderful</span> page meant to let you practice web scraping. This page was originally created to help people work with the <a href=\"https://www.crummy.com/software/BeautifulSoup/bs4/doc/\" target=\"blank\"><strong>Beautiful Soup 4</strong></a> library.</p>\n"
     ]
    }
   ],
   "source": [
    "# with a different tag <p>\n",
    "# getting the first <p>\n",
    "print(soup.p)"
   ]
  },
  {
   "cell_type": "code",
   "execution_count": 52,
   "metadata": {
    "id": "FEZrVkzGa50U"
   },
   "outputs": [
    {
     "data": {
      "text/plain": [
       "['introduction']"
      ]
     },
     "execution_count": 52,
     "metadata": {},
     "output_type": "execute_result"
    }
   ],
   "source": [
    "# getting an attribute of the tag: \n",
    "# <p class=\"introduction\">\n",
    "soup.p['class']"
   ]
  },
  {
   "cell_type": "markdown",
   "metadata": {
    "id": "xOca5nzoa50U"
   },
   "source": [
    "We can also retrieve all the items with the same Tag, and get them as an iterable object"
   ]
  },
  {
   "cell_type": "code",
   "execution_count": 58,
   "metadata": {
    "id": "KGxdU3u6a50V"
   },
   "outputs": [
    {
     "name": "stdout",
     "output_type": "stream",
     "text": [
      "<p class=\"grey-text right\" style=\"padding-right:10px\">Programming is a superpower.</p>\n"
     ]
    }
   ],
   "source": [
    "all_paragraphs = soup.find_all('p')\n",
    "print(all_paragraphs[8])"
   ]
  },
  {
   "cell_type": "markdown",
   "metadata": {
    "id": "lLEBjZEIa50V"
   },
   "source": [
    "We can even iterate :-) \n",
    "\n",
    "BTW, let's look at an interesting difference: text vs. string\n",
    "- string: returns the NavigableString object inside of the tag. If there are internal tags it will return NoneType object\n",
    "- text: returns the text inside of taf and subtags, concatenating them."
   ]
  },
  {
   "cell_type": "code",
   "execution_count": 59,
   "metadata": {
    "id": "8oAMi8wea50W"
   },
   "outputs": [
    {
     "name": "stdout",
     "output_type": "stream",
     "text": [
      "Original:\t <p class=\"introduction\">Oh, hello! This is a <span style=\"font-size:115%\">wonderful</span> page meant to let you practice web scraping. This page was originally created to help people work with the <a href=\"https://www.crummy.com/software/BeautifulSoup/bs4/doc/\" target=\"blank\"><strong>Beautiful Soup 4</strong></a> library.</p>\n",
      ".string: \t None\n",
      ".text:   \t Oh, hello! This is a wonderful page meant to let you practice web scraping. This page was originally created to help people work with the Beautiful Soup 4 library.\n",
      "----\n",
      "Original:\t <p>The following table gives some general information for the following <code>programming languages</code>:</p>\n",
      ".string: \t None\n",
      ".text:   \t The following table gives some general information for the following programming languages:\n",
      "----\n",
      "Original:\t <p>I think it's clear that, on a scale of 1-10, python is:</p>\n",
      ".string: \t I think it's clear that, on a scale of 1-10, python is:\n",
      ".text:   \t I think it's clear that, on a scale of 1-10, python is:\n",
      "----\n",
      "Original:\t <p>Javascript (dynamic data) test:</p>\n",
      ".string: \t Javascript (dynamic data) test:\n",
      ".text:   \t Javascript (dynamic data) test:\n",
      "----\n",
      "Original:\t <p class=\"jstest\" id=\"yesnojs\">y u bad tho?</p>\n",
      ".string: \t y u bad tho?\n",
      ".text:   \t y u bad tho?\n",
      "----\n",
      "Original:\t <p>Whᶐt hαppéns now¿</p>\n",
      ".string: \t Whᶐt hαppéns now¿\n",
      ".text:   \t Whᶐt hαppéns now¿\n",
      "----\n",
      "Original:\t <p><a href=\"/sitemap.xml\" target=\"blank\"><strong>sitemap</strong></a></p>\n",
      ".string: \t sitemap\n",
      ".text:   \t sitemap\n",
      "----\n",
      "Original:\t <p class=\"grey-text text-lighten-4\">Contact: Harrison@pythonprogramming.net.</p>\n",
      ".string: \t Contact: Harrison@pythonprogramming.net.\n",
      ".text:   \t Contact: Harrison@pythonprogramming.net.\n",
      "----\n",
      "Original:\t <p class=\"grey-text right\" style=\"padding-right:10px\">Programming is a superpower.</p>\n",
      ".string: \t Programming is a superpower.\n",
      ".text:   \t Programming is a superpower.\n",
      "----\n"
     ]
    }
   ],
   "source": [
    "for para in all_paragraphs:\n",
    "    print(\"Original:\\t\", para)\n",
    "    print(\".string: \\t\", para.string)\n",
    "    print(\".text:   \\t\", (para.text))\n",
    "    print(\"----\")"
   ]
  },
  {
   "cell_type": "markdown",
   "metadata": {
    "id": "RWWb-BL_ve4R"
   },
   "source": [
    "Playing with all the links. The folloing will show how to get the attributes of an `<a>` tag"
   ]
  },
  {
   "cell_type": "code",
   "execution_count": 60,
   "metadata": {
    "id": "rJuyzAoXa50X",
    "scrolled": true
   },
   "outputs": [
    {
     "name": "stdout",
     "output_type": "stream",
     "text": [
      "<a class=\"brand-logo\" href=\"/\"><img class=\"img-responsive\" src=\"/static/images/mainlogowhitethick.jpg\" style=\"width:50px; height;50px; margin-top:5px\"/></a>\n",
      "\n",
      "/\n",
      "/\n",
      "['brand-logo']\n",
      "---\n",
      "<a class=\"button-collapse\" data-activates=\"navsidebar\" href=\"#\"><i class=\"mdi-navigation-menu\"></i></a>\n",
      "\n",
      "#\n",
      "#\n",
      "['button-collapse']\n",
      "---\n",
      "<a href=\"/\">Home</a>\n",
      "Home\n",
      "/\n",
      "/\n",
      "None\n",
      "---\n",
      "<a class=\"tooltipped\" data-delay=\"50\" data-position=\"bottom\" data-tooltip=\"sudo apt-get upgrade\" href=\"/+=1/\">+=1</a>\n",
      "+=1\n",
      "/+=1/\n",
      "/+=1/\n",
      "['tooltipped']\n",
      "---\n",
      "<a href=\"/support/\">Support the Content</a>\n",
      "Support the Content\n",
      "/support/\n",
      "/support/\n",
      "None\n",
      "---\n",
      "<a href=\"https://goo.gl/7zgAVQ\" target=\"blank\"><!--<i class=\"material-icons\">question_answer</i>-->Community</a>\n",
      "Community\n",
      "https://goo.gl/7zgAVQ\n",
      "https://goo.gl/7zgAVQ\n",
      "None\n",
      "---\n",
      "<a href=\"/login/\">Log in</a>\n",
      "Log in\n",
      "/login/\n",
      "/login/\n",
      "None\n",
      "---\n",
      "<a href=\"/register/\">Sign up</a>\n",
      "Sign up\n",
      "/register/\n",
      "/register/\n",
      "None\n",
      "---\n",
      "<a href=\"/\">Home</a>\n",
      "Home\n",
      "/\n",
      "/\n",
      "None\n",
      "---\n",
      "<a class=\"tooltipped\" data-delay=\"50\" data-position=\"bottom\" data-tooltip=\"sudo apt-get upgrade\" href=\"/+=1/\">+=1</a>\n",
      "+=1\n",
      "/+=1/\n",
      "/+=1/\n",
      "['tooltipped']\n",
      "---\n",
      "<a href=\"/support/\">Support the Content</a>\n",
      "Support the Content\n",
      "/support/\n",
      "/support/\n",
      "None\n",
      "---\n",
      "<a href=\"https://goo.gl/7zgAVQ\" target=\"blank\"><!--<i class=\"material-icons\">question_answer</i>-->Community</a>\n",
      "Community\n",
      "https://goo.gl/7zgAVQ\n",
      "https://goo.gl/7zgAVQ\n",
      "None\n",
      "---\n",
      "<a href=\"/login/\">Log in</a>\n",
      "Log in\n",
      "/login/\n",
      "/login/\n",
      "None\n",
      "---\n",
      "<a href=\"/register/\">Sign up</a>\n",
      "Sign up\n",
      "/register/\n",
      "/register/\n",
      "None\n",
      "---\n",
      "<a href=\"https://www.crummy.com/software/BeautifulSoup/bs4/doc/\" target=\"blank\"><strong>Beautiful Soup 4</strong></a>\n",
      "Beautiful Soup 4\n",
      "https://www.crummy.com/software/BeautifulSoup/bs4/doc/\n",
      "https://www.crummy.com/software/BeautifulSoup/bs4/doc/\n",
      "None\n",
      "---\n",
      "<a href=\"/sitemap.xml\" target=\"blank\"><strong>sitemap</strong></a>\n",
      "sitemap\n",
      "/sitemap.xml\n",
      "/sitemap.xml\n",
      "None\n",
      "---\n",
      "<a class=\"grey-text text-lighten-3\" href=\"/support-donate/\">Support this Website!</a>\n",
      "Support this Website!\n",
      "/support-donate/\n",
      "/support-donate/\n",
      "['grey-text', 'text-lighten-3']\n",
      "---\n",
      "<a class=\"grey-text text-lighten-3\" href=\"/consulting/\">Consulting and Contracting</a>\n",
      "Consulting and Contracting\n",
      "/consulting/\n",
      "/consulting/\n",
      "['grey-text', 'text-lighten-3']\n",
      "---\n",
      "<a class=\"grey-text text-lighten-3\" href=\"https://www.facebook.com/pythonprogramming.net/\">Facebook</a>\n",
      "Facebook\n",
      "https://www.facebook.com/pythonprogramming.net/\n",
      "https://www.facebook.com/pythonprogramming.net/\n",
      "['grey-text', 'text-lighten-3']\n",
      "---\n",
      "<a class=\"grey-text text-lighten-3\" href=\"https://twitter.com/sentdex\">Twitter</a>\n",
      "Twitter\n",
      "https://twitter.com/sentdex\n",
      "https://twitter.com/sentdex\n",
      "['grey-text', 'text-lighten-3']\n",
      "---\n",
      "<a class=\"grey-text text-lighten-3\" href=\"https://instagram.com/sentdex\">Instagram</a>\n",
      "Instagram\n",
      "https://instagram.com/sentdex\n",
      "https://instagram.com/sentdex\n",
      "['grey-text', 'text-lighten-3']\n",
      "---\n",
      "<a class=\"grey-text text-lighten-3\" href=\"/about/tos/\">Terms and Conditions</a>\n",
      "Terms and Conditions\n",
      "/about/tos/\n",
      "/about/tos/\n",
      "['grey-text', 'text-lighten-3']\n",
      "---\n",
      "<a class=\"grey-text text-lighten-3\" href=\"/about/privacy-policy/\">Privacy Policy</a>\n",
      "Privacy Policy\n",
      "/about/privacy-policy/\n",
      "/about/privacy-policy/\n",
      "['grey-text', 'text-lighten-3']\n",
      "---\n",
      "<a href=\"https://xkcd.com/353/\" target=\"blank\"><p class=\"grey-text right\" style=\"padding-right:10px\">Programming is a superpower.</p></a>\n",
      "Programming is a superpower.\n",
      "https://xkcd.com/353/\n",
      "https://xkcd.com/353/\n",
      "None\n",
      "---\n"
     ]
    }
   ],
   "source": [
    "links = soup.find_all('a') # Returns a ResultSet, a list with BS4 flavor\n",
    "for url in links:\n",
    "    print(url)\n",
    "    print(url.text)\n",
    "    print(url.get('href'))\n",
    "    print(url['href']) # two ways of getting the same attribute\n",
    "    print(url.get('class'))\n",
    "    print(\"---\")"
   ]
  },
  {
   "cell_type": "markdown",
   "metadata": {
    "id": "1Zh2DexjxbbT"
   },
   "source": [
    "### Retrieving Tags with specific attributes\n",
    "\n",
    "I want to get all divs with specific attributes\n",
    "```html\n",
    "<!-- main content -->\n",
    "<div class=\"container\" style=\"max-width:1500px; min-height:100%\">\n",
    "<!--Notification:-->\n",
    "```\n",
    "\n",
    "See the code below:\n",
    "\n"
   ]
  },
  {
   "cell_type": "code",
   "execution_count": 61,
   "metadata": {
    "id": "h5AY9C7da50X"
   },
   "outputs": [
    {
     "data": {
      "text/plain": [
       "1"
      ]
     },
     "execution_count": 61,
     "metadata": {},
     "output_type": "execute_result"
    }
   ],
   "source": [
    "divs = soup.find_all('div', attrs={\"class\": \"container\", \"style\":\"max-width:1500px; min-height:100%\"})\n",
    "len(divs)"
   ]
  },
  {
   "cell_type": "markdown",
   "metadata": {
    "id": "gSIkix82zjht"
   },
   "source": [
    "Now, we will get the div with the attribute `attrs={\"class\"=\"body\"}` and navigate through its children.\n",
    "\n"
   ]
  },
  {
   "cell_type": "code",
   "execution_count": null,
   "metadata": {
    "id": "Urg6FjY-zjOp"
   },
   "outputs": [],
   "source": [
    "body = soup.find('div', attrs={\"class\": \"body\"})\n",
    "\n",
    "for child in body.children:\n",
    "    print(child)\n",
    "    print(\"----\")"
   ]
  },
  {
   "cell_type": "code",
   "execution_count": 63,
   "metadata": {
    "id": "voh39TMza50a"
   },
   "outputs": [
    {
     "data": {
      "text/plain": [
       "28"
      ]
     },
     "execution_count": 63,
     "metadata": {},
     "output_type": "execute_result"
    }
   ],
   "source": [
    "# This is the number of children of that div\n",
    "len(list(body.children))"
   ]
  },
  {
   "cell_type": "code",
   "execution_count": 64,
   "metadata": {
    "colab": {
     "base_uri": "https://localhost:8080/"
    },
    "id": "ngZ7WwGj1A0o",
    "outputId": "3fe9a9ff-9056-48b7-d36a-d0935fa65222"
   },
   "outputs": [
    {
     "data": {
      "text/plain": [
       "176"
      ]
     },
     "execution_count": 64,
     "metadata": {},
     "output_type": "execute_result"
    }
   ],
   "source": [
    "# And this is the number of descendants, going down to deeper levels of the \n",
    "# nested structure\n",
    "len(list(body.descendants))"
   ]
  },
  {
   "cell_type": "markdown",
   "metadata": {
    "id": "ZXf7Ha340N4t"
   },
   "source": [
    "Checking all the links that are inside of that div body, and highlighting the target of each of them"
   ]
  },
  {
   "cell_type": "code",
   "execution_count": 65,
   "metadata": {
    "id": "YRDLMWFBa50b"
   },
   "outputs": [
    {
     "name": "stdout",
     "output_type": "stream",
     "text": [
      "Beautiful Soup 4 is a link to https://www.crummy.com/software/BeautifulSoup/bs4/doc/\n",
      "target is: blank\n",
      "\n",
      "sitemap is a link to /sitemap.xml\n",
      "target is: blank\n",
      "\n"
     ]
    }
   ],
   "source": [
    "for item in body.findAll('a') :\n",
    "    print(item.string + \" is a link to \" + item.get('href'))\n",
    "    if (item.has_attr('target')):\n",
    "        print(\"target is: \" + item.get(\"target\")+\"\\n\")"
   ]
  },
  {
   "cell_type": "markdown",
   "metadata": {
    "id": "4pSwr5Bj0lhm"
   },
   "source": [
    "Navigating a little bit more. We will retrieve all images under the div"
   ]
  },
  {
   "cell_type": "code",
   "execution_count": 66,
   "metadata": {
    "id": "Xcr7vXKTa50c"
   },
   "outputs": [
    {
     "name": "stdout",
     "output_type": "stream",
     "text": [
      "[<img alt=\"omg batman\" class=\"responsive-img\" src=\"https://s-media-cache-ak0.pinimg.com/originals/e8/2a/ff/e82aff2876b080675449d0cef7685321.jpg\">\n",
      "</img>]\n"
     ]
    }
   ],
   "source": [
    "print(body.findAll('img'))"
   ]
  },
  {
   "cell_type": "markdown",
   "metadata": {
    "id": "5nRWcaEq1Zbs"
   },
   "source": [
    "We can even create conditionals based on the presence of an attribute in an element"
   ]
  },
  {
   "cell_type": "code",
   "execution_count": null,
   "metadata": {
    "id": "joR51w0za50d"
   },
   "outputs": [],
   "source": [
    "for a in soup.findAll(\"a\"):\n",
    "    if (a.has_attr(\"data-delay\")):\n",
    "        print(\"YES: \" + a.text)\n",
    "    else:\n",
    "        print(\"NO: \" + a.text)\n"
   ]
  },
  {
   "cell_type": "markdown",
   "metadata": {
    "id": "Cb5P7bU31tqG"
   },
   "source": [
    "## This is BeautifulSoup\n",
    "\n",
    "**LAST BUT NOT LEAST!** Check the terms of use of the websites before you use a scraper!\n",
    "\n",
    "BeautifulSoup documentation is rich and enlightening. Use as needed: https://beautiful-soup-4.readthedocs.io/"
   ]
  }
 ],
 "metadata": {
  "colab": {
   "provenance": []
  },
  "kernelspec": {
   "display_name": "Python 3 (ipykernel)",
   "language": "python",
   "name": "python3"
  },
  "language_info": {
   "codemirror_mode": {
    "name": "ipython",
    "version": 3
   },
   "file_extension": ".py",
   "mimetype": "text/x-python",
   "name": "python",
   "nbconvert_exporter": "python",
   "pygments_lexer": "ipython3",
   "version": "3.10.6"
  }
 },
 "nbformat": 4,
 "nbformat_minor": 4
}
