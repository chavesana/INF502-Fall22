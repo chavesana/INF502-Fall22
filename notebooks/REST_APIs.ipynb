{
 "cells": [
  {
   "cell_type": "markdown",
   "metadata": {
    "id": "YlpomfMBUHGP"
   },
   "source": [
    "# Using REST APIs as data sources\n",
    "\n",
    "* Data is everywhere and it is generated constantly\n",
    "* The number of data sources is amazingly huge\n",
    "* Datasets are huge and can be used in many ways\n",
    "\n",
    "* We may do amazing things using data made available by third-party:\n",
    "    - https://developer.walmartlabs.com/docs\n",
    "    - https://developer.spotify.com/documentation/web-api/\n",
    "    - https://earthquake.usgs.gov/fdsnws/event/1/\n",
    "    \n",
    "    \n",
    "We will have a nice and brief overview about how to consume data from REST APIs, mainly focusing on **JSON**.\n"
   ]
  },
  {
   "cell_type": "markdown",
   "metadata": {
    "id": "-OtAkRauUHGT"
   },
   "source": [
    "### What is an API?\n",
    "\n",
    "**Application Programming Interface** defines the methods for one software program to interact with the other. \n",
    "\n",
    "In the case of this lecture, we are dealing with a REST API, which sends data over a network: one type of Web service.\n",
    "\n",
    "When we want to receive data from an Web service, we need to make a `request` to this service. When the server receives this request, it sends a `response`.\n",
    "\n",
    "![request.png](request.png)"
   ]
  },
  {
   "cell_type": "markdown",
   "metadata": {
    "id": "gyeSQWYaUHGV"
   },
   "source": [
    "### Requests\n",
    "\n",
    "Knowing that, we will not have to learn about making requests in Python. Instead, we do it by importing the module requests."
   ]
  },
  {
   "cell_type": "code",
   "execution_count": 17,
   "metadata": {
    "id": "jck_-yPwUHGV"
   },
   "outputs": [],
   "source": [
    "import requests"
   ]
  },
  {
   "cell_type": "markdown",
   "metadata": {
    "id": "DTSCyM7nUHGW"
   },
   "source": [
    "There are different types of requests. \n",
    "\n",
    "In our case we will use a `GET`, which is used to retrieve data. This is the type of request we use to collect data.\n",
    "\n",
    "A response from the API contains 2 things (among others): \n",
    "* response code\n",
    "* response data\n",
    "\n",
    "To make a request, we use:"
   ]
  },
  {
   "cell_type": "code",
   "execution_count": 18,
   "metadata": {
    "colab": {
     "base_uri": "https://localhost:8080/"
    },
    "id": "NW2NbcEEUHGX",
    "outputId": "ae51e6c9-8885-45bc-f3e6-5a39e91a9f81"
   },
   "outputs": [
    {
     "data": {
      "text/plain": [
       "requests.models.Response"
      ]
     },
     "execution_count": 18,
     "metadata": {},
     "output_type": "execute_result"
    }
   ],
   "source": [
    "response = requests.get('http://www.nau.edu/')\n",
    "type(response)"
   ]
  },
  {
   "cell_type": "markdown",
   "metadata": {
    "id": "jPL4zCmEUHGZ"
   },
   "source": [
    "The `request.get(URL)` returns an object Response, which provides, among other things, the response code."
   ]
  },
  {
   "cell_type": "code",
   "execution_count": 19,
   "metadata": {
    "colab": {
     "base_uri": "https://localhost:8080/"
    },
    "id": "MjawJQRUUHGZ",
    "outputId": "40aabbb0-3d28-4047-dbf3-6d5f83eb7d68"
   },
   "outputs": [
    {
     "data": {
      "text/plain": [
       "200"
      ]
     },
     "execution_count": 19,
     "metadata": {},
     "output_type": "execute_result"
    }
   ],
   "source": [
    "response.status_code"
   ]
  },
  {
   "cell_type": "markdown",
   "metadata": {
    "id": "Kmxd6q0HUHGa"
   },
   "source": [
    "The most common codes are:\n",
    "* 200: Everything went okay, and the result has been returned (if any).\n",
    "* 301: The server is redirecting you to a different endpoint. This can happen when a company switches domain names, or an endpoint name is changed.\n",
    "* 400: The server thinks you made a bad request. This can happen when you don’t send along the right data, among other things.\n",
    "* 401: The server thinks you’re not authenticated. Many APIs require login ccredentials, so this happens when you don’t send the right credentials to access an API.\n",
    "* 403: The resource you’re trying to access is forbidden: you don’t have the right permissions to see it.\n",
    "* 404: The resource you tried to access wasn’t found on the server.\n",
    "* 503: The server is not ready to handle the request.\n",
    "\n",
    "More details about status codes list can be found [here](https://developer.mozilla.org/en-US/docs/Web/HTTP/Status)"
   ]
  },
  {
   "cell_type": "markdown",
   "metadata": {
    "id": "o1D6rQtDUHGp"
   },
   "source": [
    "### What about getting the data?\n",
    "\n",
    "First, read the documentation! Everytime you use an API, please read the documentation to understand how to use, the structure, etc.\n",
    "\n",
    "We will use the [Open Notify API](http://api.open-notify.org/), which gives access to data about the international space station.\n",
    "\n",
    "These APIs usually provide multiple endpoints, which are the ways we can interact with that service.\n",
    "\n",
    "Let's try a request and see how it goes:"
   ]
  },
  {
   "cell_type": "code",
   "execution_count": 20,
   "metadata": {
    "colab": {
     "base_uri": "https://localhost:8080/"
    },
    "id": "PZOm0mSYUHGq",
    "outputId": "17253340-7ab7-4f30-8c42-9a1f3fcdd596"
   },
   "outputs": [
    {
     "name": "stdout",
     "output_type": "stream",
     "text": [
      "200\n"
     ]
    }
   ],
   "source": [
    "response = requests.get(\"http://api.open-notify.org/astros.json\")\n",
    "print(response.status_code)"
   ]
  },
  {
   "cell_type": "markdown",
   "metadata": {
    "id": "qNdQGOjYUHGr"
   },
   "source": [
    "Now we can see the data..."
   ]
  },
  {
   "cell_type": "code",
   "execution_count": 21,
   "metadata": {
    "colab": {
     "base_uri": "https://localhost:8080/"
    },
    "id": "-BNHA4tMUHGr",
    "outputId": "ec9fcbbe-c379-40eb-93b6-f18d4c18aee7"
   },
   "outputs": [
    {
     "data": {
      "text/plain": [
       "bytes"
      ]
     },
     "execution_count": 21,
     "metadata": {},
     "output_type": "execute_result"
    }
   ],
   "source": [
    "type(response.content)"
   ]
  },
  {
   "cell_type": "code",
   "execution_count": 22,
   "metadata": {
    "id": "1jM5OVktUHGs"
   },
   "outputs": [
    {
     "data": {
      "text/plain": [
       "'{\"number\": 10, \"people\": [{\"name\": \"Oleg Artemyev\", \"craft\": \"ISS\"}, {\"name\": \"Denis Matveev\", \"craft\": \"ISS\"}, {\"name\": \"Sergey Korsakov\", \"craft\": \"ISS\"}, {\"name\": \"Kjell Lindgren\", \"craft\": \"ISS\"}, {\"name\": \"Bob Hines\", \"craft\": \"ISS\"}, {\"name\": \"Samantha Cristoforetti\", \"craft\": \"ISS\"}, {\"name\": \"Jessica Watkins\", \"craft\": \"ISS\"}, {\"name\": \"Cai Xuzhe\", \"craft\": \"Tiangong\"}, {\"name\": \"Chen Dong\", \"craft\": \"Tiangong\"}, {\"name\": \"Liu Yang\", \"craft\": \"Tiangong\"}], \"message\": \"success\"}'"
      ]
     },
     "execution_count": 22,
     "metadata": {},
     "output_type": "execute_result"
    }
   ],
   "source": [
    "response.text"
   ]
  },
  {
   "cell_type": "code",
   "execution_count": 23,
   "metadata": {
    "id": "Ridzs30bUHGs"
   },
   "outputs": [
    {
     "data": {
      "text/plain": [
       "{'number': 10,\n",
       " 'people': [{'name': 'Oleg Artemyev', 'craft': 'ISS'},\n",
       "  {'name': 'Denis Matveev', 'craft': 'ISS'},\n",
       "  {'name': 'Sergey Korsakov', 'craft': 'ISS'},\n",
       "  {'name': 'Kjell Lindgren', 'craft': 'ISS'},\n",
       "  {'name': 'Bob Hines', 'craft': 'ISS'},\n",
       "  {'name': 'Samantha Cristoforetti', 'craft': 'ISS'},\n",
       "  {'name': 'Jessica Watkins', 'craft': 'ISS'},\n",
       "  {'name': 'Cai Xuzhe', 'craft': 'Tiangong'},\n",
       "  {'name': 'Chen Dong', 'craft': 'Tiangong'},\n",
       "  {'name': 'Liu Yang', 'craft': 'Tiangong'}],\n",
       " 'message': 'success'}"
      ]
     },
     "execution_count": 23,
     "metadata": {},
     "output_type": "execute_result"
    }
   ],
   "source": [
    "response.json()"
   ]
  },
  {
   "cell_type": "markdown",
   "metadata": {
    "id": "QjZvPTMDUHGt"
   },
   "source": [
    "### Working with JSON \n",
    "JSON stands for JavaScript Object Notation. It is a way to encode data structures that ensures that they are easily readable. \n",
    "\n",
    "JSON output look like Python something with *dictionaries, lists, strings* and *integers*. And it is...\n",
    "\n",
    "But, how to use it? Well, we used it in the last command.\n"
   ]
  },
  {
   "cell_type": "code",
   "execution_count": 24,
   "metadata": {
    "id": "GzAZ-kRSUHGt"
   },
   "outputs": [],
   "source": [
    "import json"
   ]
  },
  {
   "cell_type": "markdown",
   "metadata": {
    "id": "Ju8Dp14PUHGu"
   },
   "source": [
    "json has two main functions:\n",
    "\n",
    "* `json.dumps()` — Takes in a Python object and converts (dumps) to a string.\n",
    "* `json.loads()` — Takes a JSON string and converts (loads) to a Python object.\n",
    "\n",
    "The `dumps()` is particularly useful as we can use it to format the json, making it easier to understand the output"
   ]
  },
  {
   "cell_type": "code",
   "execution_count": 25,
   "metadata": {
    "id": "Y3TdrOWEUHGu"
   },
   "outputs": [
    {
     "name": "stdout",
     "output_type": "stream",
     "text": [
      "{\n",
      "   \"message\": \"success\",\n",
      "   \"number\": 10,\n",
      "   \"people\": [\n",
      "      {\n",
      "         \"craft\": \"ISS\",\n",
      "         \"name\": \"Oleg Artemyev\"\n",
      "      },\n",
      "      {\n",
      "         \"craft\": \"ISS\",\n",
      "         \"name\": \"Denis Matveev\"\n",
      "      },\n",
      "      {\n",
      "         \"craft\": \"ISS\",\n",
      "         \"name\": \"Sergey Korsakov\"\n",
      "      },\n",
      "      {\n",
      "         \"craft\": \"ISS\",\n",
      "         \"name\": \"Kjell Lindgren\"\n",
      "      },\n",
      "      {\n",
      "         \"craft\": \"ISS\",\n",
      "         \"name\": \"Bob Hines\"\n",
      "      },\n",
      "      {\n",
      "         \"craft\": \"ISS\",\n",
      "         \"name\": \"Samantha Cristoforetti\"\n",
      "      },\n",
      "      {\n",
      "         \"craft\": \"ISS\",\n",
      "         \"name\": \"Jessica Watkins\"\n",
      "      },\n",
      "      {\n",
      "         \"craft\": \"Tiangong\",\n",
      "         \"name\": \"Cai Xuzhe\"\n",
      "      },\n",
      "      {\n",
      "         \"craft\": \"Tiangong\",\n",
      "         \"name\": \"Chen Dong\"\n",
      "      },\n",
      "      {\n",
      "         \"craft\": \"Tiangong\",\n",
      "         \"name\": \"Liu Yang\"\n",
      "      }\n",
      "   ]\n",
      "}\n"
     ]
    }
   ],
   "source": [
    "json_response = response.json()\n",
    "formatted_json = json.dumps(json_response, sort_keys=True, indent=3)\n",
    "\n",
    "print(formatted_json)"
   ]
  },
  {
   "cell_type": "markdown",
   "metadata": {
    "id": "qzosJ4w9WGvT"
   },
   "source": [
    "### REST API with Query Parameters\n",
    "In some cases, it is possible to pass parameters to filter the output of the API.\n",
    "\n",
    "The https://earthquake.usgs.gov/fdsnws/event/1/query endpoint tells what are the earthquakes given a set of parameters. For example time, location, etc.\n",
    "More information here:\n",
    "https://earthquake.usgs.gov/fdsnws/event/1/#parameters  \n",
    "\n",
    "In the example below, we show the earthquakes in January 2022 (`starttime` and `endtime`), with magnitude between 6 and 7 (`minmagnitude` and `maxmagnitude`).\n",
    "\n"
   ]
  },
  {
   "cell_type": "code",
   "execution_count": null,
   "metadata": {
    "id": "WuhGGOp8UHG1"
   },
   "outputs": [],
   "source": [
    "import requests\n",
    "import json\n",
    "from datetime import datetime\n",
    "\n",
    "response = requests.get(\"https://earthquake.usgs.gov/fdsnws/event/1/query?format=geojson&starttime=2022-01-01&endtime=2022-01-31&maxmagnitude=7&minmagnitude=6\")\n",
    "json_response = response.json()\n",
    "formatted_json = json.dumps(json_response, sort_keys=False, indent=2)\n",
    "\n",
    "print(formatted_json)"
   ]
  },
  {
   "cell_type": "markdown",
   "metadata": {
    "id": "C6s9JwfrYBh4"
   },
   "source": [
    "#### Getting what we need...\n",
    "Now, we will *print the place, date, and magnitude of each of them*\n",
    "\n",
    "Here is what we used:\n",
    "```json\n",
    "\"features\": [\n",
    "    {\n",
    "      \"type\": \"Feature\",\n",
    "      \"properties\": {\n",
    "        \"mag\": 6.2,\n",
    "        \"place\": \"66 km E of Hualien City, Taiwan\",\n",
    "        \"time\": 1641203195767,\n",
    "...\n",
    "```\n",
    "\n"
   ]
  },
  {
   "cell_type": "code",
   "execution_count": 28,
   "metadata": {
    "id": "enOhrXEvUHG2"
   },
   "outputs": [
    {
     "name": "stdout",
     "output_type": "stream",
     "text": [
      "----\n",
      "Place:  Kermadec Islands region\n",
      "Time:  1643424399588\n",
      "Mag:  6.5\n",
      "----\n",
      "Place:  281 km SW of Arenas, Panama\n",
      "Time:  1643368449293\n",
      "Mag:  6\n",
      "----\n",
      "Place:  220 km WNW of Pangai, Tonga\n",
      "Time:  1643265605543\n",
      "Mag:  6.2\n",
      "----\n",
      "Place:  South Sandwich Islands region\n",
      "Time:  1643073873513\n",
      "Mag:  6\n",
      "----\n",
      "Place:  71 km S of Unalaska, Alaska\n",
      "Time:  1642828624896\n",
      "Mag:  6.2\n",
      "----\n",
      "Place:  232 km SE of Sarangani, Philippines\n",
      "Time:  1642818373323\n",
      "Mag:  6\n",
      "----\n",
      "Place:  27 km SSE of Saiki, Japan\n",
      "Time:  1642781317210\n",
      "Mag:  6.3\n",
      "----\n",
      "Place:  74 km WSW of Panguna, Papua New Guinea\n",
      "Time:  1642337528025\n",
      "Mag:  6.1\n",
      "----\n",
      "Place:  80 km SW of Labuan, Indonesia\n",
      "Time:  1642151141461\n",
      "Mag:  6.6\n",
      "----\n",
      "Place:  53 km SE of Nikolski, Alaska\n",
      "Time:  1641904772454\n",
      "Mag:  6.6\n",
      "----\n",
      "Place:  100 km SE of Nikolski, Alaska\n",
      "Time:  1641900943674\n",
      "Mag:  6.8\n",
      "----\n",
      "Place:  48 km WNW of Pólis, Cyprus\n",
      "Time:  1641863268064\n",
      "Mag:  6.6\n",
      "----\n",
      "Place:  south of the Kermadec Islands\n",
      "Time:  1641773190834\n",
      "Mag:  6.2\n",
      "----\n",
      "Place:  northern Qinghai, China\n",
      "Time:  1641577530809\n",
      "Mag:  6.6\n",
      "----\n",
      "Place:  near the coast of Nicaragua\n",
      "Time:  1641486305973\n",
      "Mag:  6.1\n",
      "----\n",
      "Place:  284 km E of Katabu, Indonesia\n",
      "Time:  1641329746858\n",
      "Mag:  6\n",
      "----\n",
      "Place:  66 km E of Hualien City, Taiwan\n",
      "Time:  1641203195767\n",
      "Mag:  6.2\n",
      "----\n",
      "Place:  110 km NW of Sola, Vanuatu\n",
      "Time:  1641175784647\n",
      "Mag:  6\n",
      "\n",
      "Maximum magnitude: 6.8\n"
     ]
    }
   ],
   "source": [
    "max_magnitude = 0\n",
    "\n",
    "for earthquake in json_response[\"features\"]:\n",
    "    magnitude = earthquake[\"properties\"][\"mag\"]\n",
    "    print(\"----\")\n",
    "    print(\"Place:  \" + earthquake[\"properties\"][\"place\"])    \n",
    "    print(\"Time:  \" + str(earthquake[\"properties\"][\"time\"]))    \n",
    "    print(\"Mag:  \" + str(magnitude))\n",
    "    if (magnitude > max_magnitude):\n",
    "        max_magnitude = magnitude\n",
    "print (\"\\nMaximum magnitude: \" + str(max_magnitude))\n",
    "    "
   ]
  },
  {
   "cell_type": "code",
   "execution_count": null,
   "metadata": {},
   "outputs": [],
   "source": []
  }
 ],
 "metadata": {
  "colab": {
   "provenance": []
  },
  "kernelspec": {
   "display_name": "Python 3 (ipykernel)",
   "language": "python",
   "name": "python3"
  },
  "language_info": {
   "codemirror_mode": {
    "name": "ipython",
    "version": 3
   },
   "file_extension": ".py",
   "mimetype": "text/x-python",
   "name": "python",
   "nbconvert_exporter": "python",
   "pygments_lexer": "ipython3",
   "version": "3.10.7"
  }
 },
 "nbformat": 4,
 "nbformat_minor": 4
}
