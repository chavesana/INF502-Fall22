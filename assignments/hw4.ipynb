{
  "cells": [
    {
      "cell_type": "markdown",
      "metadata": {
        "id": "view-in-github",
        "colab_type": "text"
      },
      "source": [
        "<a href=\"https://colab.research.google.com/github/chavesana/INF502-Fall22/blob/main/assignments/hw4.ipynb\" target=\"_parent\"><img src=\"https://colab.research.google.com/assets/colab-badge.svg\" alt=\"Open In Colab\"/></a>"
      ]
    },
    {
      "cell_type": "markdown",
      "source": [
        "**GROUP ASSIGNMENT:** You can solve this in pairs (2 students, no more than 2 students)\n",
        "\n",
        "**How to subm it:**\n",
        "* Follow the steps defined on this notebook\n",
        "* Submit the Python Notebook files to your GitHub repository (same used for the other assignments), keeping the filenames\n",
        "  - make sure you add your names and GitHub username in the file, so I can connect the pairs.\n",
        "  - BOTH students in your group MUST SUBMIT the solution to your own GitHub, but they will be identical files. Please make sure you include the GitHub link to the assignment for both students in the chunk below, so I can easily switch from one GitHub to the other.\n",
        "\n",
        "**Due date:** Nov 3, 2022 11:59 PM\n",
        "I will evaluate the latest commit before the deadline\n",
        "\n",
        "---\n"
      ],
      "metadata": {
        "id": "98D7_6uadZ4i"
      }
    },
    {
      "cell_type": "markdown",
      "source": [
        "**Students' names:**\n",
        "\n",
        "* \\<Add the first name here\\> (GitHub: \\<Add the student's github link here\\>)\n",
        "* \\<Add the second name here\\> (GitHub: \\<Add the student's github link here\\>)\n",
        "\n",
        "---\n"
      ],
      "metadata": {
        "id": "Tn4BTRDg6BDB"
      }
    },
    {
      "cell_type": "markdown",
      "metadata": {
        "id": "TnqwzJgQ2dP1"
      },
      "source": [
        "# Part 1 - getting and exploring data"
      ]
    },
    {
      "cell_type": "markdown",
      "metadata": {
        "id": "PZ0Z3sCr2dP2"
      },
      "source": [
        "This time we are going to pull data directly from the internet.\n",
        "Special thanks to: https://github.com/justmarkham for sharing the dataset and materials.\n",
        "\n",
        "### Step 1. Import the necessary libraries"
      ]
    },
    {
      "cell_type": "code",
      "execution_count": null,
      "metadata": {
        "id": "5jpmO7e_2dP2"
      },
      "outputs": [],
      "source": [
        "import pandas"
      ]
    },
    {
      "cell_type": "markdown",
      "metadata": {
        "id": "vBb5WdoW2dP3"
      },
      "source": [
        "### Step 2. Import the dataset from this [address](https://raw.githubusercontent.com/justmarkham/DAT8/master/data/u.user). "
      ]
    },
    {
      "cell_type": "code",
      "execution_count": null,
      "metadata": {
        "id": "U99ZfLs92dP3"
      },
      "outputs": [],
      "source": [
        "dataset = pandas.read_csv('https://raw.githubusercontent.com/justmarkham/DAT8/master/data/u.user', sep='|')"
      ]
    },
    {
      "cell_type": "markdown",
      "metadata": {
        "id": "novHnzUj2dP3"
      },
      "source": [
        "### Step 3. Assign the dataset to a variable called `users` and use the `user_id` as the index"
      ]
    },
    {
      "cell_type": "code",
      "execution_count": null,
      "metadata": {
        "id": "RuVBOGQH2dP3"
      },
      "outputs": [],
      "source": [
        "dataset\n",
        "#write your code here"
      ]
    },
    {
      "cell_type": "markdown",
      "metadata": {
        "id": "pL5-lDDN2dP3"
      },
      "source": [
        "### Step 4. See the first 25 entries"
      ]
    },
    {
      "cell_type": "code",
      "execution_count": null,
      "metadata": {
        "scrolled": true,
        "id": "ekrwF7292dP4"
      },
      "outputs": [],
      "source": [
        "#write your code here"
      ]
    },
    {
      "cell_type": "markdown",
      "metadata": {
        "id": "1v_WZORl2dP4"
      },
      "source": [
        "### Step 5. See the last 10 entries"
      ]
    },
    {
      "cell_type": "code",
      "execution_count": null,
      "metadata": {
        "scrolled": true,
        "id": "U4Eip3c62dP4"
      },
      "outputs": [],
      "source": [
        "#write your code here"
      ]
    },
    {
      "cell_type": "markdown",
      "metadata": {
        "id": "U9xnnRBV2dP4"
      },
      "source": [
        "### Step 6. What is the number of observations in the dataset?"
      ]
    },
    {
      "cell_type": "code",
      "execution_count": null,
      "metadata": {
        "id": "3mJ_lzWi2dP4"
      },
      "outputs": [],
      "source": [
        "#write your code here"
      ]
    },
    {
      "cell_type": "markdown",
      "metadata": {
        "id": "r35k7KqG2dP4"
      },
      "source": [
        "### Step 7. What is the number of columns in the dataset?"
      ]
    },
    {
      "cell_type": "code",
      "execution_count": null,
      "metadata": {
        "id": "eS8a313_2dP5"
      },
      "outputs": [],
      "source": [
        "#write your code here"
      ]
    },
    {
      "cell_type": "markdown",
      "metadata": {
        "id": "p6LZYLqG2dP5"
      },
      "source": [
        "### Step 8. Print the name of all the columns."
      ]
    },
    {
      "cell_type": "code",
      "execution_count": null,
      "metadata": {
        "id": "v09NmN8Q2dP5"
      },
      "outputs": [],
      "source": [
        "#write your code here"
      ]
    },
    {
      "cell_type": "markdown",
      "metadata": {
        "id": "YMgpVu6O2dP5"
      },
      "source": [
        "### Step 9. How is the dataset indexed?"
      ]
    },
    {
      "cell_type": "code",
      "execution_count": null,
      "metadata": {
        "id": "MDhKBX_E2dP5"
      },
      "outputs": [],
      "source": [
        "#write your code here"
      ]
    },
    {
      "cell_type": "markdown",
      "metadata": {
        "id": "9LEr2-R92dP5"
      },
      "source": [
        "### Step 10. What is the data type of each column?"
      ]
    },
    {
      "cell_type": "code",
      "execution_count": null,
      "metadata": {
        "id": "-fJH53Eg2dP5"
      },
      "outputs": [],
      "source": [
        "#write your code here"
      ]
    },
    {
      "cell_type": "markdown",
      "metadata": {
        "id": "bdVcFODT2dP5"
      },
      "source": [
        "### Step 11. Print only the occupation column"
      ]
    },
    {
      "cell_type": "code",
      "execution_count": null,
      "metadata": {
        "id": "Jx6vFM982dP5"
      },
      "outputs": [],
      "source": [
        "#write your code here"
      ]
    },
    {
      "cell_type": "markdown",
      "metadata": {
        "id": "VFOm7Dos2dP6"
      },
      "source": [
        "### Step 12. How many different occupations there are in this dataset?"
      ]
    },
    {
      "cell_type": "code",
      "execution_count": null,
      "metadata": {
        "id": "8u0zbdPB2dP6"
      },
      "outputs": [],
      "source": [
        "#write your code here"
      ]
    },
    {
      "cell_type": "markdown",
      "metadata": {
        "id": "x7XucUWS2dP6"
      },
      "source": [
        "### Step 13. What is the most frequent occupation?"
      ]
    },
    {
      "cell_type": "code",
      "execution_count": null,
      "metadata": {
        "id": "H8MRV2pC2dP6"
      },
      "outputs": [],
      "source": [
        "#write your code here"
      ]
    },
    {
      "cell_type": "markdown",
      "metadata": {
        "id": "LhE7O-Hw2dP6"
      },
      "source": [
        "### Step 14. Summarize the DataFrame."
      ]
    },
    {
      "cell_type": "code",
      "execution_count": null,
      "metadata": {
        "id": "WFizamQQ2dP6"
      },
      "outputs": [],
      "source": [
        "#write your code here"
      ]
    },
    {
      "cell_type": "markdown",
      "metadata": {
        "id": "Oqm3ip5z2dP6"
      },
      "source": [
        "### Step 15. Summarize all the columns"
      ]
    },
    {
      "cell_type": "code",
      "execution_count": null,
      "metadata": {
        "id": "sxkzX0cF2dP6"
      },
      "outputs": [],
      "source": [
        "#write your code here"
      ]
    },
    {
      "cell_type": "markdown",
      "metadata": {
        "id": "D8_Loplh2dP6"
      },
      "source": [
        "### Step 16. Summarize only the occupation column"
      ]
    },
    {
      "cell_type": "code",
      "execution_count": null,
      "metadata": {
        "id": "V2p-2wsm2dP7"
      },
      "outputs": [],
      "source": [
        "#write your code here"
      ]
    },
    {
      "cell_type": "markdown",
      "metadata": {
        "id": "F2WhtkqT2dP7"
      },
      "source": [
        "### Step 17. What is the mean age of users?"
      ]
    },
    {
      "cell_type": "code",
      "execution_count": null,
      "metadata": {
        "id": "7anlZYts2dP7"
      },
      "outputs": [],
      "source": [
        "#write your code here"
      ]
    },
    {
      "cell_type": "markdown",
      "metadata": {
        "id": "nJE5bbx12dP7"
      },
      "source": [
        "### Step 18. What is the age with least occurrence?"
      ]
    },
    {
      "cell_type": "code",
      "execution_count": null,
      "metadata": {
        "id": "kwc2jg-x2dP7"
      },
      "outputs": [],
      "source": [
        "#write your code here"
      ]
    },
    {
      "cell_type": "markdown",
      "metadata": {
        "id": "ohNwk_KO_ZfE"
      },
      "source": [
        "# Part 2 - Visualization with Chipotle's Data"
      ]
    },
    {
      "cell_type": "markdown",
      "metadata": {
        "id": "rKk9poxq_ZfF"
      },
      "source": [
        "Special thanks to: https://github.com/justmarkham for sharing the dataset and materials.\n",
        "\n",
        "### Step 1. Import the necessary libraries"
      ]
    },
    {
      "cell_type": "code",
      "execution_count": null,
      "metadata": {
        "id": "9067DaZD_ZfG"
      },
      "outputs": [],
      "source": [
        "import pandas as pd"
      ]
    },
    {
      "cell_type": "markdown",
      "metadata": {
        "id": "c-Nq8zAq_ZfH"
      },
      "source": [
        "### Step 2. Import the dataset ([chipotle.tsv](https://github.com/chavesana/INF502-Fall22/blob/main/data/chipotle.tsv)). "
      ]
    },
    {
      "cell_type": "code",
      "execution_count": null,
      "metadata": {
        "id": "tx6t6nHR_ZfH"
      },
      "outputs": [],
      "source": [
        "#write your code here"
      ]
    },
    {
      "cell_type": "markdown",
      "metadata": {
        "id": "scq3xWVt_ZfH"
      },
      "source": [
        "### Step 3. Assign it to a variable called `chipo`."
      ]
    },
    {
      "cell_type": "code",
      "execution_count": null,
      "metadata": {
        "id": "Y9_sSOIb_ZfI"
      },
      "outputs": [],
      "source": [
        "chipo = #write your code here"
      ]
    },
    {
      "cell_type": "markdown",
      "source": [
        "### Step 4. Show the average of the column `item_price`"
      ],
      "metadata": {
        "id": "f_ioEubM_w8b"
      }
    },
    {
      "cell_type": "code",
      "source": [
        "#write your code here"
      ],
      "metadata": {
        "id": "MYgSxifV_6PR"
      },
      "execution_count": null,
      "outputs": []
    },
    {
      "cell_type": "markdown",
      "source": [
        "### Step 5. Count the number of occurrences for `\"Chicken Bowl\"`"
      ],
      "metadata": {
        "id": "XtJKEs1f_7Ap"
      }
    },
    {
      "cell_type": "code",
      "source": [
        "#write your code here"
      ],
      "metadata": {
        "id": "T0jObdNeAFmU"
      },
      "execution_count": null,
      "outputs": []
    },
    {
      "cell_type": "markdown",
      "source": [
        "### Step 6. Count the number of items with ``NULL``as the `choice_description`"
      ],
      "metadata": {
        "id": "wbMOTcxuAF9c"
      }
    },
    {
      "cell_type": "code",
      "source": [
        "#write your code here"
      ],
      "metadata": {
        "id": "B8sFqcgu4OUe"
      },
      "execution_count": null,
      "outputs": []
    },
    {
      "cell_type": "markdown",
      "metadata": {
        "id": "QyFTgGz2_ZfI"
      },
      "source": [
        "### Step 7. Show the first 10 entries"
      ]
    },
    {
      "cell_type": "code",
      "execution_count": null,
      "metadata": {
        "scrolled": false,
        "id": "hyAzAmHw_ZfJ"
      },
      "outputs": [],
      "source": [
        "#write your code here"
      ]
    },
    {
      "cell_type": "markdown",
      "metadata": {
        "id": "pMKLqbNy_ZfJ"
      },
      "source": [
        "### Step 8. Create a bar plot of the top 5 items bought (total quantity per item)\n",
        "Think simple... It is possible to do with what you know. No extras needed.\n"
      ]
    },
    {
      "cell_type": "code",
      "execution_count": null,
      "metadata": {
        "id": "mnwJQlOQ_ZfK"
      },
      "outputs": [],
      "source": [
        "#write your code here"
      ]
    },
    {
      "cell_type": "markdown",
      "metadata": {
        "id": "re1JmdT6_ZfK"
      },
      "source": [
        "### Step 9. Create a scatterplot with the number of items orderered per order price\n",
        "#### Hint: Price should be in the X-axis and Items ordered in the Y-axis\n",
        "(You can groupby and use the result)"
      ]
    },
    {
      "cell_type": "code",
      "execution_count": null,
      "metadata": {
        "id": "4VjkwE9J_ZfK"
      },
      "outputs": [],
      "source": [
        "#write your code here"
      ]
    }
  ],
  "metadata": {
    "kernelspec": {
      "display_name": "Python 3",
      "language": "python",
      "name": "python3"
    },
    "language_info": {
      "codemirror_mode": {
        "name": "ipython",
        "version": 3
      },
      "file_extension": ".py",
      "mimetype": "text/x-python",
      "name": "python",
      "nbconvert_exporter": "python",
      "pygments_lexer": "ipython3",
      "version": "3.7.3"
    },
    "colab": {
      "provenance": [],
      "collapsed_sections": [],
      "include_colab_link": true
    }
  },
  "nbformat": 4,
  "nbformat_minor": 0
}