{
  "nbformat": 4,
  "nbformat_minor": 0,
  "metadata": {
    "colab": {
      "provenance": [],
      "authorship_tag": "ABX9TyPUenBkORPVFYXkwFVsObir",
      "include_colab_link": true
    },
    "kernelspec": {
      "name": "python3",
      "display_name": "Python 3"
    },
    "language_info": {
      "name": "python"
    }
  },
  "cells": [
    {
      "cell_type": "markdown",
      "metadata": {
        "id": "view-in-github",
        "colab_type": "text"
      },
      "source": [
        "<a href=\"https://colab.research.google.com/github/chavesana/INF502-Fall22/blob/main/unittest.ipynb\" target=\"_parent\"><img src=\"https://colab.research.google.com/assets/colab-badge.svg\" alt=\"Open In Colab\"/></a>"
      ]
    },
    {
      "cell_type": "markdown",
      "source": [
        "# Unit test\n",
        "\n",
        "This notebook contains the code for the Unit test lecture."
      ],
      "metadata": {
        "id": "fqGoemWGOZiA"
      }
    },
    {
      "cell_type": "markdown",
      "source": [
        "## Basic unit test"
      ],
      "metadata": {
        "id": "EF1_s8VMP9UV"
      }
    },
    {
      "cell_type": "code",
      "execution_count": null,
      "metadata": {
        "id": "xvyK7PLwOYxp"
      },
      "outputs": [],
      "source": [
        "import unittest\n",
        "\n",
        "class TestSum(unittest.TestCase): \n",
        "\n",
        "\tdef test_sum(self): \n",
        "\t\tself.assertEqual(sum([1, 2, 3]), 6, \"Should be 6\") \n",
        "\n",
        "\tdef test_sum_tuple(self): \n",
        "\t\tself.assertEqual(sum((1, 2, 2)), 6, \"Should be 6\") "
      ]
    },
    {
      "cell_type": "code",
      "source": [
        "#unittest.main(argv=[''], exit=False)\n",
        "unittest.main(argv=[''], verbosity = 2, exit=False) #more detailed output"
      ],
      "metadata": {
        "id": "MMiuJrH8Q0V1"
      },
      "execution_count": null,
      "outputs": []
    },
    {
      "cell_type": "markdown",
      "source": [
        "## Testing my own functions"
      ],
      "metadata": {
        "id": "y2lw2rKxR3z5"
      }
    },
    {
      "cell_type": "markdown",
      "source": [
        "**Step 1:** define the functions"
      ],
      "metadata": {
        "id": "OFDWgFCeR-hc"
      }
    },
    {
      "cell_type": "code",
      "source": [
        "def is_prime(number): \n",
        "\tfor element in range(number): \n",
        "\t\tif (number % element == 0): \n",
        "\t\t\treturn False\n",
        "\treturn True \n",
        "\n",
        "\n",
        "def print_next_prime(number): \n",
        "\tindex = number \n",
        "\twhile True: \n",
        "\t\tindex += 1 \n",
        "\t\tif is_prime(index): \n",
        "\t\t\tprint(index)"
      ],
      "metadata": {
        "id": "q7Eo4jWLR3Jt"
      },
      "execution_count": null,
      "outputs": []
    },
    {
      "cell_type": "markdown",
      "source": [
        "**Step 2:** define your test cases\n",
        "\n",
        "In this example, we will test if the number 5 is prime."
      ],
      "metadata": {
        "id": "Lo6cWyJrSEEs"
      }
    },
    {
      "cell_type": "code",
      "source": [
        "#import unittest \n",
        "# If your function was in a different file, for example, prime.py, you'd have to import the module.\n",
        "# In our case, this is all inside Colab, so we don't have to worry\n",
        "# from prime import is_prime \n",
        "\n",
        "class PrimesTestCase(unittest.TestCase):\n",
        "\n",
        "   def test_is_five_prime(self):    \n",
        "      self.assertTrue(is_prime(5))\n",
        "\n",
        "#unittest.main(argv=[''], verbosity = 2, exit=False) \n",
        "\n",
        "#Define the defaultTest so we don't see the outcome for all the tests already in the memory\n",
        "unittest.main(argv=[''], defaultTest = 'PrimesTestCase', verbosity = 2, exit=False) "
      ],
      "metadata": {
        "id": "6aUBgH8BSG24"
      },
      "execution_count": null,
      "outputs": []
    },
    {
      "cell_type": "markdown",
      "source": [
        "Our function is returning a ZeroDivisionError! Let's fix it and try again:"
      ],
      "metadata": {
        "id": "XMDZ_4MhUYj1"
      }
    },
    {
      "cell_type": "code",
      "source": [
        "def is_prime(number): \n",
        "    #CHANGED THE RANGE TO PREVENT THE ZERO DIVISION ERROR\n",
        "    for element in range(1, number):\n",
        "        if (number % element == 0): \n",
        "            return False\n",
        "    return True \n",
        "\n",
        "def print_next_prime(number): \n",
        "    index = number \n",
        "    while True: \n",
        "        index += 1 \n",
        "        if is_prime(index): \n",
        "            print(index)"
      ],
      "metadata": {
        "id": "J85gkoI7Ug9F"
      },
      "execution_count": null,
      "outputs": []
    },
    {
      "cell_type": "code",
      "source": [
        "unittest.main(argv=[''], defaultTest = 'PrimesTestCase', verbosity = 2, exit=False) "
      ],
      "metadata": {
        "id": "F7axbKBkUwxk"
      },
      "execution_count": null,
      "outputs": []
    },
    {
      "cell_type": "markdown",
      "source": [
        "Well, my range is still not working, because I'm returning False instead of True. The problem is that I'm dividing by 1, which will meet the condition! So I actually have to divide from 2 forward, not from 1.\n",
        "\n",
        "Let's give it another shot."
      ],
      "metadata": {
        "id": "wIyUvkCsVAd-"
      }
    },
    {
      "cell_type": "code",
      "source": [
        "def is_prime(number): \n",
        "    #CHANGED THE RANGE TO START AT 2\n",
        "    for element in range(2, number):\n",
        "        if (number % element == 0): \n",
        "            return False\n",
        "    return True \n",
        "\n",
        "def print_next_prime(number): \n",
        "    index = number \n",
        "    while True: \n",
        "        index += 1 \n",
        "        if is_prime(index): \n",
        "            print(index)"
      ],
      "metadata": {
        "id": "_35SRfnvU_9w"
      },
      "execution_count": null,
      "outputs": []
    },
    {
      "cell_type": "code",
      "source": [
        "unittest.main(argv=[''], defaultTest = 'PrimesTestCase', verbosity = 2, exit=False) "
      ],
      "metadata": {
        "colab": {
          "base_uri": "https://localhost:8080/"
        },
        "id": "rGk-CQqZW1Gb",
        "outputId": "44277320-110e-49d4-f491-94fd3ddd8529"
      },
      "execution_count": null,
      "outputs": [
        {
          "output_type": "stream",
          "name": "stderr",
          "text": [
            "test_is_five_prime (__main__.PrimesTestCase) ... ok\n",
            "\n",
            "----------------------------------------------------------------------\n",
            "Ran 1 test in 0.004s\n",
            "\n",
            "OK\n"
          ]
        },
        {
          "output_type": "execute_result",
          "data": {
            "text/plain": [
              "<unittest.main.TestProgram at 0x7f6101ca29d0>"
            ]
          },
          "metadata": {},
          "execution_count": 25
        }
      ]
    },
    {
      "cell_type": "markdown",
      "source": [
        "## What to test\n",
        "\n",
        "1.   Known cases (good and bad ones)\n",
        "2.   Edge cases\n",
        "3.   Exceptions\n",
        "\n",
        "\n"
      ],
      "metadata": {
        "id": "4ItI-UuWW-S8"
      }
    },
    {
      "cell_type": "code",
      "source": [
        "#import unittest \n",
        "#from prime import is_prime \n",
        "\n",
        "class PrimesTestCase(unittest.TestCase):\n",
        "   #Known cases (true)\n",
        "   def test_is_five_prime(self):    \n",
        "      self.assertTrue(is_prime(5))\n",
        "   \n",
        "   #Known case (false)\n",
        "   def test_is_four_prime(self):    \n",
        "      self.assertFalse(is_prime(4))\n",
        "   \n",
        "   #Edge cases\n",
        "   def test_is_zero_not_prime(self):\n",
        "      self.assertFalse(is_prime(0))\n",
        "\n",
        "  #Invalid inputs\n",
        "   def test_negative_number(self):    \n",
        "      self.assertFalse(is_prime(-1))    \n",
        "      self.assertFalse(is_prime(-2)) \n",
        "      self.assertFalse(is_prime(-3))\n",
        "\n",
        "  #Exceptions\n",
        "   def test_TypeError(self):\n",
        "      self.assertRaises(TypeError, is_prime, \"a\")"
      ],
      "metadata": {
        "id": "HAv5s7fzXwzb"
      },
      "execution_count": null,
      "outputs": []
    },
    {
      "cell_type": "code",
      "source": [
        "unittest.main(argv=[''], defaultTest = 'PrimesTestCase', verbosity = 2, exit=False) "
      ],
      "metadata": {
        "id": "1XSje3bIY4oi"
      },
      "execution_count": null,
      "outputs": []
    },
    {
      "cell_type": "markdown",
      "source": [
        "It turns out our code doesn't behave well with negative numbers (or even zero)!\n",
        "\n",
        "Let's fix it!"
      ],
      "metadata": {
        "id": "fgJJ6sT7Y7A9"
      }
    },
    {
      "cell_type": "code",
      "source": [
        "def is_prime(number): \n",
        "   if number <= 1: \n",
        "      return False\n",
        "   for element in range(2, number): \n",
        "      if (number % element == 0): \n",
        "         return False\n",
        "   return True \n",
        "\n",
        "\n",
        "def print_next_prime(number): \n",
        "      index = number \n",
        "      while True: \n",
        "            index += 1 \n",
        "            if is_prime(index): \n",
        "                  print(index)"
      ],
      "metadata": {
        "id": "bKis_GYsZDq1"
      },
      "execution_count": null,
      "outputs": []
    },
    {
      "cell_type": "code",
      "source": [
        "unittest.main(argv=[''], defaultTest = 'PrimesTestCase', verbosity = 2, exit=False) "
      ],
      "metadata": {
        "id": "Rwx0iXyJZMvM"
      },
      "execution_count": null,
      "outputs": []
    },
    {
      "cell_type": "markdown",
      "source": [
        "That's all folks!"
      ],
      "metadata": {
        "id": "gCmr1VMvZOzm"
      }
    }
  ]
}